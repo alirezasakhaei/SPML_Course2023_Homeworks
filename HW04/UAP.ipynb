{
  "cells": [
    {
      "cell_type": "markdown",
      "metadata": {
        "id": "view-in-github",
        "colab_type": "text"
      },
      "source": [
        "<a href=\"https://colab.research.google.com/github/alirezasakhaei/SPML_Course2023_Homeworks/blob/main/HW04/UAP.ipynb\" target=\"_parent\"><img src=\"https://colab.research.google.com/assets/colab-badge.svg\" alt=\"Open In Colab\"/></a>"
      ]
    },
    {
      "cell_type": "markdown",
      "metadata": {
        "id": "CgdNuxMaf_p2"
      },
      "source": [
        "# SPML HW3 - Universal Adversarial Perturbation (30)\n",
        "\n",
        "### Deadline: 1402/2/30\n",
        "\n",
        "#### Name: Alireza Sakhaeirad\n",
        "#### Student No.: 9810174"
      ]
    },
    {
      "cell_type": "markdown",
      "metadata": {
        "id": "h3WiS4Pafrzs"
      },
      "source": [
        "**Initial Setups** "
      ]
    },
    {
      "cell_type": "code",
      "execution_count": 5,
      "metadata": {
        "id": "mUXNrrA2Y5TV",
        "colab": {
          "base_uri": "https://localhost:8080/"
        },
        "outputId": "e3a88ab9-7fb1-4b25-f666-05f407fdb29b"
      },
      "outputs": [
        {
          "output_type": "stream",
          "name": "stdout",
          "text": [
            "cuda\n",
            "Tesla T4\n",
            "Mounted at /content/drive\n",
            "/content/drive/MyDrive\n"
          ]
        }
      ],
      "source": [
        "from google.colab import drive\n",
        "import torch\n",
        "import torchvision\n",
        "import torchvision.transforms as transforms\n",
        "import torch.nn as nn\n",
        "import torch.nn.functional as F\n",
        "import torch.optim as optim\n",
        "from torch import Tensor\n",
        "from typing import Type\n",
        "import numpy as np\n",
        "\n",
        "# Please use CUDA\n",
        "\n",
        "device = 'cuda' if torch.cuda.is_available() else 'cpu'\n",
        "print(device)\n",
        "if device == 'cuda':\n",
        "  print(torch.cuda.get_device_name(0))\n",
        "\n",
        "#Let's try Drive\n",
        "drive.mount('/content/drive')\n",
        "%cd /content/drive/MyDrive/\n",
        "# !mkdir ./myCIFAR10\n",
        "\n"
      ]
    },
    {
      "cell_type": "markdown",
      "metadata": {
        "id": "_Gxti_EzrWoB"
      },
      "source": [
        "**Installing & Importing torchattacks for deepfool**"
      ]
    },
    {
      "cell_type": "code",
      "execution_count": null,
      "metadata": {
        "id": "ahrfXk0gqovr"
      },
      "outputs": [],
      "source": [
        "\"\"\"\n",
        "Deepfool attack is used in UAP algorithm\n",
        "We suggest to use torchattacks library and its implemented DeepFool\n",
        "\"\"\"\n",
        "\n",
        "!pip install git+https://github.com/Harry24k/adversarial-attacks-pytorch.git\n",
        "\n",
        "import torchattacks"
      ]
    },
    {
      "cell_type": "markdown",
      "metadata": {
        "id": "HMKpRhtc05XY"
      },
      "source": [
        "\n",
        "**[1] Projection function**"
      ]
    },
    {
      "cell_type": "code",
      "execution_count": 22,
      "metadata": {
        "id": "8zE0Pg90z2lI"
      },
      "outputs": [],
      "source": [
        "#In this function you wil implement projection due to the given norm (p) \n",
        "#For now, only p = 2 and p = Inf is needed to be supported by your function\n",
        "#Project on the lp ball centered at 0 and of radius e\n",
        "\n",
        "def proj_lp(v, e, p):\n",
        "    v = np.array(v)\n",
        "    if p == 2:\n",
        "        #Your code goes here\n",
        "        norm = np.linalg.norm(v)\n",
        "        v = v * e / norm\n",
        "    elif p == np.inf:\n",
        "        #Your code goes here\n",
        "        norm = np.max(v)\n",
        "        v = v * e / norm\n",
        "    else:\n",
        "         raise ValueError('Values of p different from 2 and Inf are currently not supported!')\n",
        "    return v"
      ]
    },
    {
      "cell_type": "markdown",
      "metadata": {
        "id": "c6I1_65r1D9k"
      },
      "source": [
        "**[2] UAP generation**"
      ]
    },
    {
      "cell_type": "code",
      "execution_count": 53,
      "metadata": {
        "id": "CZunW5Fs1C91"
      },
      "outputs": [],
      "source": [
        "#In this function you will implement UAP algorithm for generating a universal perturbation based on the given dataset and model\n",
        "def clamp_zero_one(image):\n",
        "    return torch.clamp(image, min=0, max=1)\n",
        "\n",
        "\n",
        "def calc_fooling_rate(model, dataloader, v):\n",
        "\n",
        "    total = 0\n",
        "    fooled = 0\n",
        "    v = v.to(device)\n",
        "    for images, labels in dataloader:\n",
        "        images, labels = images.to(device), labels.to(device)\n",
        "        preds = model(images + v)\n",
        "        _, pred_labels = torch.max(preds.data, 1)\n",
        "        \n",
        "\n",
        "        total += labels.shape[0]\n",
        "        fooled += (labels != pred_labels).sum().item()\n",
        "    \n",
        "    return fooled /total\n",
        "\n",
        "\n",
        "\n",
        "def universal_pert(dataset, model, delta=0.1, max_iter_uni = 99999, eps=10, p=np.inf, num_classes=10, df_overshoot=0.02, df_steps=10):\n",
        "    '''\n",
        "    :param dataset: Pytorch Dataset\n",
        "    :param model: Model to be fooled by the adversarial examples\n",
        "    :param delta: 1-delta represents the fooling_rate, and the objective (default = 90% fooling rate)\n",
        "    :param max_iter_uni: Maximum number of iterations of the main algorithm\n",
        "    :param eps: Controls the l_p magnitude of the perturbation (default = 10)\n",
        "    :param p: Only p==2 or p==infinity are supported\n",
        "    :param num_classes: Number of classes on the dataset\n",
        "    :param df_overshoot: Parameter to the Deep_fool algorithm\n",
        "    :param df_steps: Maximum iterations of the deep fool algorithm\n",
        "    :return: perturbation found (and also fooling_rates for iterations and number of total_iterations)\n",
        "    '''\n",
        "\n",
        "    model.eval()\n",
        "\n",
        "    # Initializing the perturbation to 0s\n",
        "    v = 0#your code goes here\n",
        "    deepfool = torchattacks.DeepFool(model, steps=df_steps, overshoot=df_overshoot)\n",
        "\n",
        "\n",
        "    #Initializing fooling rate and iteration count\n",
        "    fooling_rate = 0.0\n",
        "    iter = 0\n",
        "    \n",
        "    fooling_rates=[]\n",
        "    total_iterations = []\n",
        "\n",
        "    \"\"\"\n",
        "    Begin of the main loop on Universal Adversarial Perturbations algorithm\n",
        "    (Provide the conditions due to given delta and maximum number of iterations)\n",
        "    \"\"\"\n",
        "    while (iter < max_iter_uni) and (fooling_rate < (1-delta)): #your code goes here:\n",
        "        print ('Starting pass number ', iter)\n",
        "\n",
        "        # Go through the trainset and compute the perturbation increments sequentially\n",
        "        print(len(dataset))\n",
        "        for i, data in enumerate(dataset):\n",
        "            \n",
        "            image, label = data\n",
        "            image = image.reshape([1,3,32,32]).to(device)\n",
        "            \n",
        "            #Complete the code due to the UAP algorithm\n",
        "            #your code goes here\n",
        "            label = torch.tensor(label, dtype = torch.long).reshape([1, 1]).to(device)\n",
        "            _, pred = torch.max(model(clamp_zero_one(image+v)).data, 1)\n",
        "            if pred.item() == label:#your code goes here:\n",
        "                  print('>> k = ', i, ', iter #', iter)\n",
        "                  \n",
        "                  #Finding a new minimal perturbation with deepfool to fool the network on this image\n",
        "                  #your code goes here\n",
        "                  DELTA = deepfool(clamp_zero_one(image + v), label)\n",
        "                  #Update v appropriately\n",
        "                  #your code goes here\n",
        "                  v_temp = v + DELTA\n",
        "                  v = proj_lp(v_temp.cpu(), eps, p)\n",
        "                  v = torch.tensor(v).to(device)\n",
        "   \n",
        "        iter = iter + 1\n",
        "\n",
        "        with torch.no_grad():\n",
        "            batch_size = 128\n",
        "            dataloader = torch.utils.data.DataLoader(dataset, batch_size = batch_size, shuffle = False, num_workers = 2)#your code goes here\n",
        "\n",
        "            # total = 0\n",
        "            # fooled = 0\n",
        "\n",
        "            \"\"\"Calculate fooling rate\n",
        "            (Go through the dataset and check that v can fool the model or not. Calculate the ratio of fooled samples to total number of samples.)\n",
        "            \n",
        "            #your code goes here\n",
        "            \n",
        "            \"\"\"\n",
        "            #######\n",
        "            fooling_rate = calc_fooling_rate(model, dataloader, v)\n",
        "            #######\n",
        "            torch.cuda.empty_cache()\n",
        "\n",
        "            print(\"FOOLING RATE: \", fooling_rate)\n",
        "            fooling_rates.append(fooling_rate)\n",
        "            total_iterations.append(iter)\n",
        "\n",
        "        print(fooling_rate)\n",
        "        print(delta)\n",
        "        print(iter)\n",
        "\n",
        "\n",
        "    return v, fooling_rates, total_iterations\n",
        "\n"
      ]
    },
    {
      "cell_type": "markdown",
      "metadata": {
        "id": "2B9HtE6fg_WF"
      },
      "source": [
        "\n",
        "**Loading CIFAR10**"
      ]
    },
    {
      "cell_type": "code",
      "source": [
        "%cd UAP"
      ],
      "metadata": {
        "id": "63gg5jWu1Gvi",
        "outputId": "a03454fe-2e77-41e9-dfb2-62eea93a816a",
        "colab": {
          "base_uri": "https://localhost:8080/"
        }
      },
      "execution_count": 10,
      "outputs": [
        {
          "output_type": "stream",
          "name": "stdout",
          "text": [
            "/content/drive/MyDrive/UAP\n"
          ]
        }
      ]
    },
    {
      "cell_type": "code",
      "source": [
        "!ls"
      ],
      "metadata": {
        "colab": {
          "base_uri": "https://localhost:8080/"
        },
        "id": "bhDq6-CdVHrV",
        "outputId": "79699790-b8b7-495e-dda7-59bcaaefaa1f"
      },
      "execution_count": 11,
      "outputs": [
        {
          "output_type": "stream",
          "name": "stdout",
          "text": [
            "cifar-10-batches-py\t__pycache__  SPML_HW4_UAP_resnet18_cifar10_model_std\n",
            "cifar-10-python.tar.gz\tresnet.py    UAP.ipynb\n"
          ]
        }
      ]
    },
    {
      "cell_type": "code",
      "execution_count": 12,
      "metadata": {
        "id": "5x7VJIuChGZk"
      },
      "outputs": [],
      "source": [
        "batch_size = 128\n",
        "transform = transforms.Compose([transforms.ToTensor(),])\n",
        "\n",
        "cifar_trainset = torchvision.datasets.CIFAR10(root='./', train = True, download = False, transform = transform)\n",
        "cifar_trainloader = torch.utils.data.DataLoader(cifar_trainset, batch_size = batch_size, shuffle = True, num_workers = 2)\n",
        "\n",
        "cifar_testset = torchvision.datasets.CIFAR10(root='./', train = False, download = False, transform = transform)\n",
        "cifar_testloader = torch.utils.data.DataLoader(cifar_testset, batch_size = batch_size, shuffle = False, num_workers = 2)\n"
      ]
    },
    {
      "cell_type": "markdown",
      "metadata": {
        "id": "wUemUeuRjpy5"
      },
      "source": [
        "**[3]Loading model**"
      ]
    },
    {
      "cell_type": "code",
      "execution_count": 13,
      "metadata": {
        "id": "0B7YOc3VjwHy",
        "colab": {
          "base_uri": "https://localhost:8080/"
        },
        "outputId": "0bfa82e4-fc24-4420-f21e-ce8bcb5dd75a"
      },
      "outputs": [
        {
          "output_type": "execute_result",
          "data": {
            "text/plain": [
              "<All keys matched successfully>"
            ]
          },
          "metadata": {},
          "execution_count": 13
        }
      ],
      "source": [
        "from resnet import *\n",
        "\n",
        "model = ResNet18()\n",
        "model = model.to(device)\n",
        "model.train()\n",
        "\n",
        "learning_rate = 0.001\n",
        "criterion = nn.CrossEntropyLoss()\n",
        "optimizer = optim.SGD(model.parameters(), lr=learning_rate, momentum=0.9)\n",
        "\n",
        "\n",
        "#Load model state dict using the given saved model (The model is trained with CIFAR10 trainset)\n",
        "#your code goes here\n",
        "path = './SPML_HW4_UAP_resnet18_cifar10_model_std'\n",
        "model.load_state_dict(torch.load(path))"
      ]
    },
    {
      "cell_type": "markdown",
      "metadata": {
        "id": "TFTazsYPpTVy"
      },
      "source": [
        "**Generate universal perturbation for CIFAR10 using your function**"
      ]
    },
    {
      "cell_type": "code",
      "execution_count": 17,
      "metadata": {
        "id": "D-mDJUkbpP76"
      },
      "outputs": [],
      "source": [
        "#First, split the cifar testset into two distinct dataset (Note that number of samples from each class is balanced in these two dataset.)\n",
        "#UAP_dataset: 50% of testset for using in your UAP algorithm\n",
        "#evaluation_dataset: 50% of testset for final evaluation of UAP function (Calculating fooling rates of universal v over unseen cifar test samples)\n",
        "#Then, use your UAP function for generating universal perturbation\n",
        "\n",
        "\"\"\"\n",
        "UAP_dataset, evaluation_dataset = #your code goes here\n",
        "\"\"\"\n",
        "# Define a function to split the test set into two balanced datasets\n",
        "def split_dataset(dataset):\n",
        "    num_samples = len(dataset)\n",
        "    num_samples_per_class = num_samples // 10\n",
        "    labels = [x[1] for x in dataset]\n",
        "    indices_1 = []\n",
        "    indices_2 = []\n",
        "\n",
        "    for i in range(10):\n",
        "        num_samples_per_class_1 = num_samples_per_class // 2\n",
        "        num_samples_per_class_2 = num_samples_per_class - num_samples_per_class_1\n",
        "        indices = [j for j in range(num_samples) if labels[j] == i]\n",
        "        indices_1 += indices[:num_samples_per_class_1]\n",
        "        indices_2 += indices[num_samples_per_class_1:num_samples_per_class_1+num_samples_per_class_2]\n",
        "\n",
        "    dataset_1 = torch.utils.data.Subset(dataset, indices_1)\n",
        "    dataset_2 = torch.utils.data.Subset(dataset, indices_2)\n",
        "    return dataset_1, dataset_2\n",
        "\n",
        "# Split the test set into two balanced datasets\n",
        "UAP_dataset, evaluation_dataset = split_dataset(cifar_testset)"
      ]
    },
    {
      "cell_type": "code",
      "source": [
        "len(UAP_dataset)"
      ],
      "metadata": {
        "id": "HCFdcl134JaC",
        "outputId": "623492a3-be83-492f-d1ae-01f9980c505d",
        "colab": {
          "base_uri": "https://localhost:8080/"
        }
      },
      "execution_count": 35,
      "outputs": [
        {
          "output_type": "execute_result",
          "data": {
            "text/plain": [
              "5000"
            ]
          },
          "metadata": {},
          "execution_count": 35
        }
      ]
    },
    {
      "cell_type": "code",
      "source": [
        "v, fooling_rates, total_iterations = universal_pert(UAP_dataset, model)"
      ],
      "metadata": {
        "id": "sNgfh5GoY0WP"
      },
      "execution_count": null,
      "outputs": []
    },
    {
      "cell_type": "code",
      "source": [
        "def test(model, loader, T=1, device=device, v = 0):\n",
        "    correct = 0\n",
        "    total = 0\n",
        "    model.eval()  # Set the model to evaluation mode\n",
        "    corrects = 0\n",
        "    total = 0\n",
        "    # Disable gradient computation for efficiency\n",
        "    with torch.no_grad():\n",
        "        for data in loader:\n",
        "            # Get inputs and labels from the dataloader\n",
        "            inputs, labels = data[0].to(device), data[1].to(device)\n",
        "\n",
        "            # Forward pass through the network\n",
        "            outputs = model(inputs+v)\n",
        "            \n",
        "            # Get the predicted class with the highest score\n",
        "            _, predicted = torch.max(outputs.data, 1)\n",
        "\n",
        "            # Count how many predictions were correct\n",
        "            total += labels.size(0)\n",
        "            correct += (predicted == labels).sum().item()\n",
        "\n",
        "    # Calculate the accuracy as the percentage of correct predictions\n",
        "    accuracy = 100 * correct / total\n",
        "    return accuracy\n",
        "    ################################ End #########################################"
      ],
      "metadata": {
        "id": "ezqqg8aFGtRT"
      },
      "execution_count": 67,
      "outputs": []
    },
    {
      "cell_type": "code",
      "source": [
        "std_acc = test(model, cifar_testloader, v=0)\n",
        "adv_acc = test(model, cifar_testloader, v=v)\n",
        "\n",
        "print(f'Standard Accuracy of the model is {std_acc}')\n",
        "print(f'Advaersarial Accuracy of the model is {adv_acc}')"
      ],
      "metadata": {
        "colab": {
          "base_uri": "https://localhost:8080/"
        },
        "id": "fUIosRseGxqi",
        "outputId": "f7e5aee3-6de4-4667-bdb5-efb88125a04b"
      },
      "execution_count": 68,
      "outputs": [
        {
          "output_type": "stream",
          "name": "stdout",
          "text": [
            "Standard Accuracy of the model is 76.78\n",
            "Advaersarial Accuracy of the model is 10.0\n"
          ]
        }
      ]
    },
    {
      "cell_type": "markdown",
      "metadata": {
        "id": "EbZUohK_piKV"
      },
      "source": [
        "**[4] Plot fooling rates over iterations in UAP**\n",
        "\n"
      ]
    },
    {
      "cell_type": "markdown",
      "source": [
        "Note: One iteration was enough for convergence of the universal attack, so plotting isn't going to give any information.  "
      ],
      "metadata": {
        "id": "WP1GKbffEL6z"
      }
    },
    {
      "cell_type": "code",
      "execution_count": 69,
      "metadata": {
        "id": "lRKxZKglpvaK",
        "colab": {
          "base_uri": "https://localhost:8080/",
          "height": 490
        },
        "outputId": "b5983a77-09e3-4da5-9556-9bfd9a49525a"
      },
      "outputs": [
        {
          "output_type": "execute_result",
          "data": {
            "text/plain": [
              "<StemContainer object of 3 artists>"
            ]
          },
          "metadata": {},
          "execution_count": 69
        },
        {
          "output_type": "display_data",
          "data": {
            "text/plain": [
              "<Figure size 640x480 with 1 Axes>"
            ],
            "image/png": "[encoded data removed]"
          },
          "metadata": {}
        }
      ],
      "source": [
        "import matplotlib.pyplot as plt\n",
        "\n",
        "plt.title(\"Fooling Rates over Universal Iterations\")\n",
        "plt.xlabel(\"Universal Algorithm Iter\")\n",
        "plt.ylabel(\"Fooling Rate\")\n",
        "plt.grid(True)\n",
        "\"\"\"\n",
        "your code goes here\n",
        "\"\"\"\n",
        "plt.stem(fooling_rates)\n"
      ]
    },
    {
      "cell_type": "markdown",
      "metadata": {
        "id": "29GbpLH7pAl3"
      },
      "source": [
        "**[6] Evaluate fooling rate of universal v on testset**"
      ]
    },
    {
      "cell_type": "code",
      "source": [
        "def test(model, loader, T=1, device=device, v = 0):\n",
        "    correct = 0\n",
        "    total = 0\n",
        "    model.eval()  # Set the model to evaluation mode\n",
        "    corrects = 0\n",
        "    total = 0\n",
        "    # Disable gradient computation for efficiency\n",
        "    with torch.no_grad():\n",
        "        for data in loader:\n",
        "            # Get inputs and labels from the dataloader\n",
        "            inputs, labels = data[0].to(device), data[1].to(device)\n",
        "\n",
        "            # Forward pass through the network\n",
        "            outputs = model(inputs+v)\n",
        "            \n",
        "            # Get the predicted class with the highest score\n",
        "            _, predicted = torch.max(outputs.data, 1)\n",
        "\n",
        "            # Count how many predictions were correct\n",
        "            total += labels.size(0)\n",
        "            correct += (predicted == labels).sum().item()\n",
        "\n",
        "    # Calculate the accuracy as the percentage of correct predictions\n",
        "    accuracy = 100 * correct / total\n",
        "    return accuracy\n",
        "    ################################ End #########################################"
      ],
      "metadata": {
        "id": "P3m40DuRHQu_"
      },
      "execution_count": 74,
      "outputs": []
    },
    {
      "cell_type": "code",
      "execution_count": 76,
      "metadata": {
        "id": "a6DAteLwuiRg",
        "colab": {
          "base_uri": "https://localhost:8080/"
        },
        "outputId": "3fbefcd7-c8ef-46a8-ed7f-93db890117fd"
      },
      "outputs": [
        {
          "output_type": "stream",
          "name": "stdout",
          "text": [
            "0.9\n"
          ]
        }
      ],
      "source": [
        "#In this section, you will calculate the ratio of fooled samples to total number of samples over unseen test samples\n",
        "\n",
        "\n",
        "#check the robustness of model on perturbed test samples with your universal perturbation (output of your algorithm on previous sections)\n",
        "\"\"\"\n",
        "    your code goes here\n",
        "\"\"\"\n",
        "loader = torch.utils.data.DataLoader(evaluation_dataset, batch_size = batch_size, shuffle = False, num_workers = 2)\n",
        "evaluation_fooling_rate = 1 - test(model, loader, v = v) / 100\n",
        "print(evaluation_fooling_rate)"
      ]
    }
  ],
  "metadata": {
    "accelerator": "GPU",
    "colab": {
      "gpuType": "T4",
      "provenance": [],
      "include_colab_link": true
    },
    "kernelspec": {
      "display_name": "Python 3",
      "name": "python3"
    },
    "language_info": {
      "codemirror_mode": {
        "name": "ipython",
        "version": 3
      },
      "file_extension": ".py",
      "mimetype": "text/x-python",
      "name": "python",
      "nbconvert_exporter": "python",
      "pygments_lexer": "ipython3",
      "version": "3.8.5"
    }
  },
  "nbformat": 4,
  "nbformat_minor": 0
}