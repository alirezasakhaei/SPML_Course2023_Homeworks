{
  "cells": [
    {
      "cell_type": "markdown",
      "metadata": {
        "id": "view-in-github",
        "colab_type": "text"
      },
      "source": [
        "<a href=\"https://colab.research.google.com/github/alirezasakhaei/SPML_Course2023_Homeworks/blob/main/Defensive_Distillation.ipynb\" target=\"_parent\"><img src=\"https://colab.research.google.com/assets/colab-badge.svg\" alt=\"Open In Colab\"/></a>"
      ]
    },
    {
      "cell_type": "markdown",
      "metadata": {
        "id": "CgdNuxMaf_p2"
      },
      "source": [
        "# SPML HW3 - Defensive Distillation (30)\n",
        "\n",
        "### Deadline: 1402/2/30\n",
        "\n",
        "#### Name: Alireza Sakhaeirad\n",
        "#### Student No.: 98101714"
      ]
    },
    {
      "cell_type": "markdown",
      "metadata": {
        "id": "xpKO-cm_Z54s"
      },
      "source": [
        "In this notebook, you are going to attack a defensively distilled model\n",
        "\n",
        "Please write your code in specified sections and do not change anything else. If you have a question regarding this homework, please ask it on the course page.\n",
        "\n",
        "Also, it is recommended to use google colab to do this homework. You can connect to your drive using the code below:"
      ]
    },
    {
      "cell_type": "markdown",
      "source": [
        "## Additional Functions"
      ],
      "metadata": {
        "id": "g7mxAYnWQhVb"
      }
    },
    {
      "cell_type": "code",
      "source": [
        "from matplotlib import pyplot as plt\n",
        "from IPython.display import clear_output\n",
        "\n",
        "def plot_acc_acc_loss(acc_train, acc_test, losses):\n",
        "    clear_output(True)\n",
        "    fig, (ax1, ax2) = plt.subplots(nrows=1, ncols=2, figsize=(8, 4))\n",
        "\n",
        "    ax1.plot(acc_train, label='train')\n",
        "    ax1.plot(acc_test, label='test')\n",
        "    ax1.legend()\n",
        "    ax1.grid(True)\n",
        "\n",
        "    ax2.plot(losses, label='losses')\n",
        "    ax2.legend()\n",
        "    ax2.grid(True)\n",
        "    plt.show()"
      ],
      "metadata": {
        "id": "wrT2c10NQjJm"
      },
      "execution_count": 29,
      "outputs": []
    },
    {
      "cell_type": "markdown",
      "source": [
        "## Resnet"
      ],
      "metadata": {
        "id": "eScwA8X5L8gC"
      }
    },
    {
      "cell_type": "code",
      "source": [
        "'''ResNet in PyTorch.\n",
        "For Pre-activation ResNet, see 'preact_resnet.py'.\n",
        "Reference:\n",
        "[1] Kaiming He, Xiangyu Zhang, Shaoqing Ren, Jian Sun\n",
        "    Deep Residual Learning for Image Recognition. arXiv:1512.03385\n",
        "https://github.com/kuangliu/pytorch-cifar/blob/master/models/resnet.py\n",
        "'''\n",
        "import torch\n",
        "import torch.nn as nn\n",
        "import torch.nn.functional as F\n",
        "\n",
        "\n",
        "class BasicBlock(nn.Module):\n",
        "    expansion = 1\n",
        "\n",
        "    def __init__(self, in_planes, planes, stride=1):\n",
        "        super(BasicBlock, self).__init__()\n",
        "        self.conv1 = nn.Conv2d(\n",
        "            in_planes, planes, kernel_size=3, stride=stride, padding=1, bias=False)\n",
        "        self.bn1 = nn.BatchNorm2d(planes)\n",
        "        self.conv2 = nn.Conv2d(planes, planes, kernel_size=3,\n",
        "                               stride=1, padding=1, bias=False)\n",
        "        self.bn2 = nn.BatchNorm2d(planes)\n",
        "\n",
        "        self.shortcut = nn.Sequential()\n",
        "        if stride != 1 or in_planes != self.expansion*planes:\n",
        "            self.shortcut = nn.Sequential(\n",
        "                nn.Conv2d(in_planes, self.expansion*planes,\n",
        "                          kernel_size=1, stride=stride, bias=False),\n",
        "                nn.BatchNorm2d(self.expansion*planes)\n",
        "            )\n",
        "\n",
        "    def forward(self, x):\n",
        "        out = F.relu(self.bn1(self.conv1(x)))\n",
        "        out = self.bn2(self.conv2(out))\n",
        "        out += self.shortcut(x)\n",
        "        out = F.relu(out)\n",
        "        return out\n",
        "\n",
        "\n",
        "class Bottleneck(nn.Module):\n",
        "    expansion = 4\n",
        "\n",
        "    def __init__(self, in_planes, planes, stride=1):\n",
        "        super(Bottleneck, self).__init__()\n",
        "        self.conv1 = nn.Conv2d(in_planes, planes, kernel_size=1, bias=False)\n",
        "        self.bn1 = nn.BatchNorm2d(planes)\n",
        "        self.conv2 = nn.Conv2d(planes, planes, kernel_size=3,\n",
        "                               stride=stride, padding=1, bias=False)\n",
        "        self.bn2 = nn.BatchNorm2d(planes)\n",
        "        self.conv3 = nn.Conv2d(planes, self.expansion *\n",
        "                               planes, kernel_size=1, bias=False)\n",
        "        self.bn3 = nn.BatchNorm2d(self.expansion*planes)\n",
        "\n",
        "        self.shortcut = nn.Sequential()\n",
        "        if stride != 1 or in_planes != self.expansion*planes:\n",
        "            self.shortcut = nn.Sequential(\n",
        "                nn.Conv2d(in_planes, self.expansion*planes,\n",
        "                          kernel_size=1, stride=stride, bias=False),\n",
        "                nn.BatchNorm2d(self.expansion*planes)\n",
        "            )\n",
        "\n",
        "    def forward(self, x):\n",
        "        out = F.relu(self.bn1(self.conv1(x)))\n",
        "        out = F.relu(self.bn2(self.conv2(out)))\n",
        "        out = self.bn3(self.conv3(out))\n",
        "        out += self.shortcut(x)\n",
        "        out = F.relu(out)\n",
        "        return out\n",
        "\n",
        "\n",
        "class ResNet(nn.Module):\n",
        "    def __init__(self, block, num_blocks, num_classes=10):\n",
        "        super(ResNet, self).__init__()\n",
        "        self.in_planes = 64\n",
        "\n",
        "        self.conv1 = nn.Conv2d(3, 64, kernel_size=3,\n",
        "                               stride=1, padding=1, bias=False)\n",
        "        self.bn1 = nn.BatchNorm2d(64)\n",
        "        self.layer1 = self._make_layer(block, 64, num_blocks[0], stride=1)\n",
        "        self.layer2 = self._make_layer(block, 128, num_blocks[1], stride=2)\n",
        "        self.layer3 = self._make_layer(block, 256, num_blocks[2], stride=2)\n",
        "        self.layer4 = self._make_layer(block, 512, num_blocks[3], stride=2)\n",
        "        self.linear = nn.Linear(512*block.expansion, num_classes)\n",
        "\n",
        "    def _make_layer(self, block, planes, num_blocks, stride):\n",
        "        strides = [stride] + [1]*(num_blocks-1)\n",
        "        layers = []\n",
        "        for stride in strides:\n",
        "            layers.append(block(self.in_planes, planes, stride))\n",
        "            self.in_planes = planes * block.expansion\n",
        "        return nn.Sequential(*layers)\n",
        "\n",
        "    def forward(self, x):\n",
        "        out = F.relu(self.bn1(self.conv1(x)))\n",
        "        out = self.layer1(out)\n",
        "        out = self.layer2(out)\n",
        "        out = self.layer3(out)\n",
        "        out = self.layer4(out)\n",
        "        out = F.avg_pool2d(out, 4)\n",
        "        out = out.view(out.size(0), -1)\n",
        "        out = self.linear(out)\n",
        "        return out\n",
        "\n",
        "\n",
        "def ResNet18():\n",
        "    return ResNet(BasicBlock, [2, 2, 2, 2])\n",
        "\n",
        "\n",
        "def ResNet34():\n",
        "    return ResNet(BasicBlock, [3, 4, 6, 3])\n",
        "\n",
        "\n",
        "def ResNet50():\n",
        "    return ResNet(Bottleneck, [3, 4, 6, 3])\n",
        "\n",
        "def ResNet101():\n",
        "    return ResNet(Bottleneck, [3, 4, 23, 3])\n",
        "\n",
        "\n",
        "def ResNet152():\n",
        "    return ResNet(Bottleneck, [3, 8, 36, 3])\n",
        "\n",
        "\n",
        "def test():\n",
        "    net = ResNet18()\n",
        "    y = net(torch.randn(1, 3, 32, 32))\n",
        "    print(y.size())"
      ],
      "metadata": {
        "id": "8zyM0bUtL8AA"
      },
      "execution_count": 9,
      "outputs": []
    },
    {
      "cell_type": "markdown",
      "metadata": {
        "id": "NJb0CvxpL1Q2"
      },
      "source": [
        "## Initializations"
      ]
    },
    {
      "cell_type": "code",
      "execution_count": 10,
      "metadata": {
        "id": "jNyN53BvAoD1"
      },
      "outputs": [],
      "source": [
        "import torch\n",
        "import torchvision\n",
        "import torch.nn as nn\n",
        "import torch.nn.functional as F\n",
        "import torchvision.transforms as transforms\n",
        "from torchvision.models import resnet18\n",
        "import torch.optim as optim"
      ]
    },
    {
      "cell_type": "markdown",
      "metadata": {
        "id": "KncQ7q9NL32n"
      },
      "source": [
        "## Defining Teacher and Student Classes"
      ]
    },
    {
      "cell_type": "code",
      "execution_count": 11,
      "metadata": {
        "id": "tFjhNHr9BELF"
      },
      "outputs": [],
      "source": [
        "class Teacher(nn.Module):\n",
        "  def __init__(self, num_cls, T=1):\n",
        "    super().__init__()\n",
        "    self.conv = nn.Sequential(\n",
        "        *list(resnet18(pretrained=False).children())[:-2])\n",
        "    \n",
        "    self.fc = nn.Linear(512, num_cls)\n",
        "    self.temp = T\n",
        "  \n",
        "  def forward(self, x, T=None):\n",
        "    if T is None:\n",
        "      T = self.temp\n",
        "    x = self.conv(x)\n",
        "    x = torch.flatten(x, start_dim=1)\n",
        "    logits = self.fc(x)\n",
        "    output = torch.softmax(logits / T, dim=1)\n",
        "\n",
        "    return logits, output\n",
        "\n",
        "class Student(nn.Module):\n",
        "  def __init__(self, num_cls, T=1):\n",
        "    super().__init__()\n",
        "    self.conv1 = nn.Conv2d(3, 6, 5)\n",
        "    self.pool = nn.MaxPool2d(2, 2)\n",
        "    self.conv2 = nn.Conv2d(6, 16, 5)\n",
        "    self.fc1 = nn.Linear(16 * 5 * 5, 120)\n",
        "    self.fc2 = nn.Linear(120, 84)\n",
        "    self.fc3 = nn.Linear(84, num_cls)\n",
        "    self.temp = T\n",
        "\n",
        "  def forward(self, x, T=None):\n",
        "    if T is None:\n",
        "      T = self.temp\n",
        "    x = self.pool(F.relu(self.conv1(x)))\n",
        "    x = self.pool(F.relu(self.conv2(x)))\n",
        "    x = torch.flatten(x, 1)\n",
        "    x = F.relu(self.fc1(x))\n",
        "    x = F.relu(self.fc2(x))\n",
        "    logits = self.fc3(x)\n",
        "\n",
        "    output = torch.softmax(logits / T, dim=1)\n",
        "    return logits, output"
      ]
    },
    {
      "cell_type": "code",
      "execution_count": 68,
      "metadata": {
        "colab": {
          "base_uri": "https://localhost:8080/"
        },
        "id": "vADZfUlJdbWZ",
        "outputId": "33a0fb33-7a26-47d1-e6a1-bce4c5034bb3"
      },
      "outputs": [
        {
          "output_type": "stream",
          "name": "stdout",
          "text": [
            "Files already downloaded and verified\n",
            "Files already downloaded and verified\n"
          ]
        }
      ],
      "source": [
        "transform = transforms.Compose(\n",
        "    [transforms.ToTensor(),\n",
        "     transforms.Normalize((0.5, 0.5, 0.5), (0.5, 0.5, 0.5))])\n",
        "\n",
        "batch_size = 128\n",
        "\n",
        "trainset = torchvision.datasets.CIFAR10(root='./data', train=True,\n",
        "                                        download=True, transform=transform)\n",
        "\n",
        "testset = torchvision.datasets.CIFAR10(root='./data', train=False,\n",
        "                                       download=True, transform=transform)\n",
        "\n",
        "###################### Problem 1 (3 points) ####################################\n",
        "# todo: Define your data loaders for training, testing, and validation         #\n",
        "################################################################################\n",
        "\n",
        "# your code goes here\n",
        "\n",
        "trainloader = torch.utils.data.DataLoader(trainset, batch_size=batch_size,\n",
        "                                          shuffle=True)\n",
        "\n",
        "testloader = torch.utils.data.DataLoader(testset, batch_size=batch_size,\n",
        "                                         shuffle=False, num_workers=2)\n",
        "################################ End ###########################################\n",
        "\n",
        "classes = ('plane', 'car', 'bird', 'cat',\n",
        "           'deer', 'dog', 'frog', 'horse', 'ship', 'truck')\n",
        "\n",
        "device = torch.device('cuda:0' if torch.cuda.is_available() else 'cpu')"
      ]
    },
    {
      "cell_type": "markdown",
      "metadata": {
        "id": "LvTvfZybMBSR"
      },
      "source": [
        "## Training"
      ]
    },
    {
      "cell_type": "markdown",
      "metadata": {
        "id": "BCmosNdHMExH"
      },
      "source": [
        "### Teacher Network Training"
      ]
    },
    {
      "cell_type": "code",
      "execution_count": 108,
      "metadata": {
        "id": "LgTK7EhrIs_r"
      },
      "outputs": [],
      "source": [
        "def standard_train(model, loader, num_epoch, optimizer, criterion, T=None, \n",
        "                   device=device):\n",
        "  ###################### Problem 2 (4 points) ##################################\n",
        "  # todo: Iterate over loader in each epoch                                    #\n",
        "  # todo: Compute the model's output for each batch at the given temperature T #\n",
        "  # todo: Compute the loss function and take a step by the optimizer           #\n",
        "  # todo: Monitor the training procedure                                       #\n",
        "  ##############################################################################\n",
        "\n",
        "  # your code goes here\n",
        "  for epoch in range(num_epoch):\n",
        "        running_loss = 0.0\n",
        "        \n",
        "        for inputs, labels in loader:\n",
        "            inputs, labels = inputs.to(device), labels.to(device)\n",
        "            \n",
        "            # Compute the model's output for each batch at the given temperature T\n",
        "            if T is not None:\n",
        "                logits, outputs = model(inputs, T=T)\n",
        "            else:\n",
        "                logits, outputs = model(inputs)\n",
        "            \n",
        "            optimizer.zero_grad()\n",
        "            \n",
        "            loss = criterion(outputs, labels)\n",
        "            loss.backward()\n",
        "            optimizer.step()\n",
        "            \n",
        "            running_loss += loss.item()\n",
        "        \n",
        "        # Monitor the training procedure\n",
        "        epoch_loss = running_loss / len(loader)\n",
        "        print(f\"Epoch {epoch+1}/{num_epoch}, Loss: {epoch_loss:.4f}\")\n",
        "  ##############################################################################"
      ]
    },
    {
      "cell_type": "code",
      "execution_count": null,
      "metadata": {
        "id": "gkIqSmUjLOIJ"
      },
      "outputs": [],
      "source": [
        "T = 100\n",
        "teacher = Teacher(len(classes), T=T).to(device)\n",
        "teacher_optim = optim.Adam(teacher.parameters())\n",
        "teacher_criterion = nn.CrossEntropyLoss()"
      ]
    },
    {
      "cell_type": "code",
      "execution_count": 110,
      "metadata": {
        "colab": {
          "base_uri": "https://localhost:8080/"
        },
        "id": "XbSXhhVloGBJ",
        "outputId": "b84042c7-4174-43b3-c986-bf5cdbb0e335"
      },
      "outputs": [
        {
          "output_type": "stream",
          "name": "stdout",
          "text": [
            "Epoch 1/15, Loss: 2.1332\n",
            "Epoch 2/15, Loss: 1.9631\n",
            "Epoch 3/15, Loss: 1.8957\n",
            "Epoch 5/15, Loss: 1.8006\n",
            "Epoch 6/15, Loss: 1.7738\n",
            "Epoch 7/15, Loss: 1.7539\n",
            "Epoch 8/15, Loss: 1.7409\n",
            "Epoch 9/15, Loss: 1.7284\n",
            "Epoch 10/15, Loss: 1.7137\n",
            "Epoch 11/15, Loss: 1.7017\n",
            "Epoch 12/15, Loss: 1.6873\n",
            "Epoch 13/15, Loss: 1.6801\n",
            "Epoch 14/15, Loss: 1.6754\n",
            "Epoch 15/15, Loss: 1.6649\n"
          ]
        }
      ],
      "source": [
        "standard_train(model=teacher, \n",
        "            loader=trainloader, \n",
        "            num_epoch=15, \n",
        "            optimizer=teacher_optim, \n",
        "            criterion=teacher_criterion, \n",
        "            T=T, \n",
        "            device=device)"
      ]
    },
    {
      "cell_type": "markdown",
      "metadata": {
        "id": "EA_uJ6kYMKiY"
      },
      "source": [
        "### Student Network Training"
      ]
    },
    {
      "cell_type": "code",
      "execution_count": 113,
      "metadata": {
        "id": "NMU4qFqwJWXO"
      },
      "outputs": [],
      "source": [
        "def distillation(teacher, student, loader, num_epoch, optimizer, criterion, \n",
        "                 T=None, device=device):\n",
        "  ###################### Problem 3 (6 points) ##################################\n",
        "  # todo: Iterate over loader in each epoch                                    #\n",
        "  # todo: Compute MSE loss between student's logit and teacher's logit         #\n",
        "  # todo: Take a step by the optimizer                                         #\n",
        "  # todo: Monitor the training procedure                                       #\n",
        "  ##############################################################################\n",
        "\n",
        "  # your code goes here\n",
        "  losses = []\n",
        "  acc_trains = []\n",
        "  acc_tests = []\n",
        "\n",
        "\n",
        "  teacher.eval()\n",
        "  student.train()    \n",
        "  for epoch in range(num_epoch):\n",
        "      student.train()  \n",
        "      running_loss = 0.0\n",
        "      \n",
        "      for inputs, labels in loader:\n",
        "          inputs, labels = inputs.to(device), labels.to(device)\n",
        "          teacher_logits, teachers_output = teacher(inputs, T=1)\n",
        "          teacher_logits = teacher_logits.to(device)\n",
        "\n",
        "          student_logits, students_outputs = student(inputs)\n",
        "          \n",
        "          optimizer.zero_grad()\n",
        "          \n",
        "          loss = criterion(student_logits, teacher_logits)\n",
        "          loss.backward()\n",
        "          optimizer.step()\n",
        "          \n",
        "          running_loss += loss.item()\n",
        "      \n",
        "      # Monitor the training procedure\n",
        "      epoch_loss = running_loss / len(loader)\n",
        "      epoch_acc_train = standard_test(student, trainloader)\n",
        "      epoch_acc_test =  standard_test(student, testloader)\n",
        "      \n",
        "      losses.append(epoch_loss)\n",
        "      acc_trains.append(epoch_acc_train)\n",
        "      acc_tests.append(epoch_acc_test)\n",
        "\n",
        "      plot_acc_acc_loss(acc_trains, acc_tests, losses)\n",
        "\n",
        "  ################################ End #########################################"
      ]
    },
    {
      "cell_type": "code",
      "execution_count": 131,
      "metadata": {
        "id": "m6EXzkMiKIZL"
      },
      "outputs": [],
      "source": [
        "T = 100\n",
        "student = Student(len(classes), T=T).to(device)\n",
        "student_optim = optim.Adam(student.parameters())\n",
        "std_criterion = nn.MSELoss()"
      ]
    },
    {
      "cell_type": "code",
      "execution_count": 132,
      "metadata": {
        "colab": {
          "base_uri": "https://localhost:8080/",
          "height": 368
        },
        "id": "Arnzq1nuJ9ro",
        "outputId": "7401267c-c196-466a-92bc-027d42207453"
      },
      "outputs": [
        {
          "output_type": "display_data",
          "data": {
            "text/plain": [
              "<Figure size 800x400 with 2 Axes>"
            ],
            "image/png": "[encoded data removed]"
          },
          "metadata": {}
        }
      ],
      "source": [
        "distillation(teacher=teacher, \n",
        "             student=student, \n",
        "             loader=trainloader, \n",
        "             num_epoch=100, \n",
        "             optimizer=student_optim, \n",
        "             criterion=std_criterion, \n",
        "             T=T, \n",
        "             device=device)"
      ]
    },
    {
      "cell_type": "markdown",
      "metadata": {
        "id": "RTgQ3eXTMbV9"
      },
      "source": [
        "### Computing Clean Accuracy"
      ]
    },
    {
      "cell_type": "code",
      "execution_count": 115,
      "metadata": {
        "id": "IGwrJ0PFanu2"
      },
      "outputs": [],
      "source": [
        "def standard_test(model, loader, T=1, device=device):\n",
        "  correct = 0\n",
        "  total = 0\n",
        "  ###################### Problem 4 (3 points) ##################################\n",
        "  # todo: Iterate over loader, compute the output and predicted                #\n",
        "  # label, and update \"correct\" and \"total\" counters accordingly.              # \n",
        "  ##############################################################################\n",
        "  \n",
        "  # your code goes here\n",
        "  model.eval()  # Set the model to evaluation mode\n",
        "  corrects = 0\n",
        "  total = 0\n",
        "  # Disable gradient computation for efficiency\n",
        "  with torch.no_grad():\n",
        "      for data in loader:\n",
        "          # Get inputs and labels from the dataloader\n",
        "          inputs, labels = data[0].to(device), data[1].to(device)\n",
        "\n",
        "          # Forward pass through the network\n",
        "          logits, outputs = model(inputs)\n",
        "          \n",
        "          # Get the predicted class with the highest score\n",
        "          _, predicted = torch.max(logits.data, 1)\n",
        "\n",
        "          # Count how many predictions were correct\n",
        "          total += labels.size(0)\n",
        "          correct += (predicted == labels).sum().item()\n",
        "\n",
        "  # Calculate the accuracy as the percentage of correct predictions\n",
        "  accuracy = 100 * correct / total\n",
        "  return accuracy\n",
        "  ################################ End #########################################\n",
        "  print(f'Clean accuracy of the network on the 10000 test images: {100 * correct // total} %')"
      ]
    },
    {
      "cell_type": "code",
      "source": [
        "standard_test(teacher, testloader)"
      ],
      "metadata": {
        "colab": {
          "base_uri": "https://localhost:8080/"
        },
        "id": "PjwLcKf4P1Jq",
        "outputId": "9a0a09f4-56af-4d50-dd53-c20f926e832a"
      },
      "execution_count": 111,
      "outputs": [
        {
          "output_type": "execute_result",
          "data": {
            "text/plain": [
              "72.03"
            ]
          },
          "metadata": {},
          "execution_count": 111
        }
      ]
    },
    {
      "cell_type": "code",
      "execution_count": 133,
      "metadata": {
        "colab": {
          "base_uri": "https://localhost:8080/"
        },
        "id": "hIX-0T3LTcqx",
        "outputId": "2a0f81e8-9c10-426a-905f-afe637a696c7"
      },
      "outputs": [
        {
          "output_type": "execute_result",
          "data": {
            "text/plain": [
              "63.97"
            ]
          },
          "metadata": {},
          "execution_count": 133
        }
      ],
      "source": [
        "standard_test(student, testloader)"
      ]
    },
    {
      "cell_type": "markdown",
      "metadata": {
        "id": "oZzMOgrtMhR6"
      },
      "source": [
        "## Attacks"
      ]
    },
    {
      "cell_type": "code",
      "execution_count": 134,
      "metadata": {
        "id": "9-bZdK06nl-7"
      },
      "outputs": [],
      "source": [
        "def fgsm_attack (model, X, y, epsilon, T=1, mode=\"output\"):\n",
        "  delta = torch.zeros_like(X, requires_grad=True).to(device)\n",
        "  ###################### Problem 5 (9 points) ######################\n",
        "  # todo: Perform forward path on model with the image             #\n",
        "  # todo: Compute loss:                                            #\n",
        "  #       - In output mode, set cross entropy as the loss function #\n",
        "  #       - In logit mode, set the logit value of the target label #\n",
        "  #         as the loss function                                   #\n",
        "  # todo: Perform backward path on loss function                   #\n",
        "  # todo: Calculate the gradient w.r.t. the data                   #\n",
        "  # todo: Determine delta based on the gradient and epsilon        #\n",
        "  # Also, if the perturbed image exceeds the valid range, clamp    #\n",
        "  # the delta in order to obtain an image in the valid range       #  \n",
        "  ##################################################################\n",
        "\n",
        "  # your code goes here\n",
        "  # Forward pass\n",
        "  logits, output = model(X + delta, T=T)\n",
        "\n",
        "  # Compute loss\n",
        "  if mode == \"output\":\n",
        "      loss = F.cross_entropy(output, y)\n",
        "  elif mode == \"logit\":\n",
        "      extracted_logits = logits[torch.arange(logits.shape[0]), y]\n",
        "      loss = - torch.sum(extracted_logits)\n",
        "  else:\n",
        "      raise ValueError(\"Invalid mode. Allowed modes: 'output', 'logit'\")\n",
        "\n",
        "  # Backward pass\n",
        "  model.zero_grad()\n",
        "  loss.backward(retain_graph=True)\n",
        "\n",
        "  # Calculate gradient w.r.t. data\n",
        "  grad = delta.grad.detach()\n",
        "\n",
        "  # Determine delta based on the gradient and epsilon\n",
        "  delta = epsilon * torch.sign(grad)\n",
        "\n",
        "  # Clamp the delta to ensure valid range of perturbed image\n",
        "  delta = torch.clamp(X + delta, 0, 1) - X\n",
        "  ########################### End ##################################\n",
        "    \n",
        "  return delta + X"
      ]
    },
    {
      "cell_type": "code",
      "execution_count": 130,
      "metadata": {
        "id": "bW_IPpmWNc8d"
      },
      "outputs": [],
      "source": [
        "def attack_test(model, attack_model, loader, mode=\"output\", epsilon=4/255, T=1, \n",
        "                device=device):\n",
        "  correct = 0\n",
        "  total = 0\n",
        "  ###################### Problem 6 (4.5 points) ################################\n",
        "  # todo: Iterate over loader                                                  #\n",
        "  # todo: Find an adversarial example by FGSM attack on attack_model           #\n",
        "  # todo: Compute the output and predicted label, and updated \"correct\" and    #\n",
        "  # \"total\" counters accordingly.                                              # \n",
        "  ##############################################################################\n",
        "\n",
        "  # your code goes here\n",
        "  for images, labels in loader:\n",
        "      images = images.to(device)\n",
        "      labels = labels.to(device)\n",
        "      \n",
        "      # Perform FGSM attack on attack model to get adversarial example\n",
        "      adv_images = attack_model(model, images, labels, epsilon, T, mode)\n",
        "      \n",
        "      # Compute output and predicted label from adversarially perturbed image\n",
        "      _, adv_outputs = model(adv_images)\n",
        "      _, adv_pred_labels = torch.max(adv_outputs.data, 1)\n",
        "      \n",
        "      # Update correct and total counters\n",
        "      total += labels.size(0)\n",
        "      correct += (adv_pred_labels == labels).sum().item()\n",
        "  ################################ End #########################################\n",
        "  print(f'Accuracy of the network on the 10000 test images after attacking {mode} layer: {100 * correct // total} %')"
      ]
    },
    {
      "cell_type": "code",
      "execution_count": 138,
      "metadata": {
        "colab": {
          "base_uri": "https://localhost:8080/"
        },
        "id": "GDU26f3APt_w",
        "outputId": "2e6b024c-7e3d-4815-95af-2bf599a47f19"
      },
      "outputs": [
        {
          "output_type": "stream",
          "name": "stdout",
          "text": [
            "Accuracy of the network on the 10000 test images after attacking output layer: 32 %\n",
            "Accuracy of the network on the 10000 test images after attacking logit layer: 23 %\n"
          ]
        }
      ],
      "source": [
        "###################### Problem 7 (1.5 points) ##################################\n",
        "# todo: Report the accuracy of the student model under attack output and logit #\n",
        "#       layers                                                                 #\n",
        "# todo: Do not forget to set the temperature of the student model to 1         #\n",
        "################################################################################\n",
        "\n",
        "# your code goes here\n",
        "mode = \"output\"\n",
        "attack_test(student, fgsm_attack, testloader, mode = mode)\n",
        "\n",
        "mode = \"logit\"\n",
        "attack_test(student, fgsm_attack, testloader, mode = mode)\n",
        "################################ End ###########################################"
      ]
    }
  ],
  "metadata": {
    "accelerator": "GPU",
    "colab": {
      "provenance": [],
      "toc_visible": true,
      "include_colab_link": true
    },
    "gpuClass": "standard",
    "kernelspec": {
      "display_name": "Python 3",
      "language": "python",
      "name": "python3"
    },
    "language_info": {
      "codemirror_mode": {
        "name": "ipython",
        "version": 3
      },
      "file_extension": ".py",
      "mimetype": "text/x-python",
      "name": "python",
      "nbconvert_exporter": "python",
      "pygments_lexer": "ipython3",
      "version": "3.8.5"
    }
  },
  "nbformat": 4,
  "nbformat_minor": 0
}