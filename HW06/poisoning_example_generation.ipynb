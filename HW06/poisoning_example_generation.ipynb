{
  "cells": [
    {
      "cell_type": "markdown",
      "metadata": {
        "id": "view-in-github",
        "colab_type": "text"
      },
      "source": [
        "<a href=\"https://colab.research.google.com/github/alirezasakhaei/SPML_Course2023_Homeworks/blob/main/HW06/poisoning_example_generation.ipynb\" target=\"_parent\"><img src=\"https://colab.research.google.com/assets/colab-badge.svg\" alt=\"Open In Colab\"/></a>"
      ]
    },
    {
      "cell_type": "code",
      "execution_count": null,
      "metadata": {
        "id": "RJuHE19ee_jj"
      },
      "outputs": [],
      "source": [
        "import torch\n",
        "import torch.nn as nn\n",
        "import torch.nn.functional as F\n",
        "import torch.optim as optim\n",
        "import torchvision\n",
        "import torchvision.transforms as transforms\n",
        "from torchvision.models import resnet18, ResNet18_Weights\n",
        "import matplotlib.pyplot as plt\n",
        "import numpy as np\n",
        "from PIL import Image\n",
        "from torch.autograd import Variable\n"
      ]
    },
    {
      "cell_type": "code",
      "execution_count": null,
      "metadata": {
        "id": "9cPZTXMnh1Vo"
      },
      "outputs": [],
      "source": [
        "device = torch.device('cuda:0' if torch.cuda.is_available() else 'cpu')"
      ]
    },
    {
      "cell_type": "code",
      "execution_count": null,
      "metadata": {
        "id": "kv8fjDpOyG6q",
        "colab": {
          "base_uri": "https://localhost:8080/"
        },
        "outputId": "dad35efe-4bbf-4423-aee4-e261d603d2e3"
      },
      "outputs": [
        {
          "output_type": "stream",
          "name": "stdout",
          "text": [
            "Files already downloaded and verified\n",
            "Files already downloaded and verified\n"
          ]
        }
      ],
      "source": [
        "transform = transforms.Compose(\n",
        "    [transforms.ToTensor()])\n",
        "    #  transforms.Normalize((0.5, 0.5, 0.5), (0.5, 0.5, 0.5))])\n",
        "\n",
        "batch_size = 1024\n",
        "\n",
        "trainset = torchvision.datasets.CIFAR10(root='./data', train=True,\n",
        "                                        download=True, transform=transform)\n",
        "trainloader = torch.utils.data.DataLoader(trainset, batch_size=batch_size,\n",
        "                                          shuffle=True, num_workers=2)\n",
        "\n",
        "testset = torchvision.datasets.CIFAR10(root='./data', train=False,\n",
        "                                       download=True, transform=transform)\n",
        "testloader = torch.utils.data.DataLoader(testset, batch_size=batch_size,\n",
        "                                         shuffle=False, num_workers=2)\n",
        "\n",
        "classes = ('plane', 'car', 'bird', 'cat',\n",
        "           'deer', 'dog', 'frog', 'horse', 'ship', 'truck')"
      ]
    },
    {
      "cell_type": "code",
      "execution_count": null,
      "metadata": {
        "id": "7mP3FZpqSLba"
      },
      "outputs": [],
      "source": [
        "class Net(nn.Module):\n",
        "    def __init__(self):\n",
        "        super(Net, self).__init__()\n",
        "        self.feature_extractor = nn.Sequential(\n",
        "            *list(resnet18(pretrained=True).children())[:-2])\n",
        "        self.fc = nn.Linear(512, 10)\n",
        "\n",
        "    def get_features(self, x):\n",
        "      return self.feature_extractor(x)\n",
        "\n",
        "    def forward(self, x):\n",
        "        feature = self.get_features(x)\n",
        "        return F.softmax(self.fc(torch.flatten(feature, start_dim=1)))"
      ]
    },
    {
      "cell_type": "code",
      "execution_count": null,
      "metadata": {
        "id": "ArhuwLbOTkdS",
        "colab": {
          "base_uri": "https://localhost:8080/"
        },
        "outputId": "0be6521e-c848-4763-9213-3edd2640d8bb"
      },
      "outputs": [
        {
          "output_type": "stream",
          "name": "stderr",
          "text": [
            "/usr/local/lib/python3.10/dist-packages/torchvision/models/_utils.py:208: UserWarning: The parameter 'pretrained' is deprecated since 0.13 and may be removed in the future, please use 'weights' instead.\n",
            "  warnings.warn(\n",
            "/usr/local/lib/python3.10/dist-packages/torchvision/models/_utils.py:223: UserWarning: Arguments other than a weight enum or `None` for 'weights' are deprecated since 0.13 and may be removed in the future. The current behavior is equivalent to passing `weights=ResNet18_Weights.IMAGENET1K_V1`. You can also use `weights=ResNet18_Weights.DEFAULT` to get the most up-to-date weights.\n",
            "  warnings.warn(msg)\n"
          ]
        }
      ],
      "source": [
        "model = Net().to(device)"
      ]
    },
    {
      "cell_type": "code",
      "execution_count": null,
      "metadata": {
        "id": "9pnPaN6ukfEm"
      },
      "outputs": [],
      "source": [
        "import torch.optim as optim\n",
        "\n",
        "criterion = nn.CrossEntropyLoss()\n",
        "optimizer = optim.Adam(model.parameters())\n",
        "num_epochs = 10"
      ]
    },
    {
      "cell_type": "code",
      "source": [
        "def calc_acc(model, loader):\n",
        "    model.eval()\n",
        "    correct = 0\n",
        "    total = 0\n",
        "    for (data, label) in loader:\n",
        "        data, label = data.to(device), label.to(device)\n",
        "        _, output = model(data).max(1)\n",
        "        total += data.shape[0]\n",
        "        correct += (label == output).sum().item()\n",
        "    return correct / total"
      ],
      "metadata": {
        "id": "-DUHorKHXJf9"
      },
      "execution_count": null,
      "outputs": []
    },
    {
      "cell_type": "code",
      "execution_count": null,
      "metadata": {
        "id": "4nU8BAnHkrpp",
        "colab": {
          "base_uri": "https://localhost:8080/"
        },
        "outputId": "a8d921a2-8b16-4fd2-a3ef-55baa0b2f72b"
      },
      "outputs": [
        {
          "output_type": "stream",
          "name": "stderr",
          "text": [
            "<ipython-input-54-e8b0128bed20>:13: UserWarning: Implicit dimension choice for softmax has been deprecated. Change the call to include dim=X as an argument.\n",
            "  return F.softmax(self.fc(torch.flatten(feature, start_dim=1)))\n"
          ]
        },
        {
          "output_type": "stream",
          "name": "stdout",
          "text": [
            "Epoch: 0 || Train Acc: 0.6777, Test Acc: 0.6583\n",
            "Epoch: 1 || Train Acc: 0.73082, Test Acc: 0.7066\n",
            "Epoch: 2 || Train Acc: 0.7114, Test Acc: 0.6893\n",
            "Epoch: 3 || Train Acc: 0.73516, Test Acc: 0.7083\n",
            "Epoch: 4 || Train Acc: 0.7465, Test Acc: 0.716\n",
            "Epoch: 5 || Train Acc: 0.7567, Test Acc: 0.7248\n",
            "Epoch: 6 || Train Acc: 0.7235, Test Acc: 0.6914\n",
            "Epoch: 7 || Train Acc: 0.7771, Test Acc: 0.7302\n",
            "Epoch: 8 || Train Acc: 0.76124, Test Acc: 0.7155\n",
            "Epoch: 9 || Train Acc: 0.76806, Test Acc: 0.725\n"
          ]
        }
      ],
      "source": [
        "model.train()\n",
        "for epoch in range(num_epochs):\n",
        "    #### To Do (4 pts) #####\n",
        "    # Fine-tune model on CIFAR-10 dataset\\\n",
        "    model.train()\n",
        "    for (data, target) in trainloader:\n",
        "        data, target = data.to(device), target.to(device)\n",
        "        output = model(data)\n",
        "        model.zero_grad()\n",
        "        loss = criterion(output, target)\n",
        "        loss.backward()\n",
        "        optimizer.step()\n",
        "\n",
        "    acc_train = calc_acc(model, trainloader)\n",
        "    acc_test = calc_acc(model, testloader)\n",
        "\n",
        "    print(f'Epoch: {epoch} || Train Acc: {acc_train}, Test Acc: {acc_test}')\n",
        "    ################"
      ]
    },
    {
      "cell_type": "code",
      "source": [
        "di = model.state_dict()\n",
        "torch.save(di, 'model_state_dict.pth')\n"
      ],
      "metadata": {
        "id": "rOehbvPSHVCP"
      },
      "execution_count": null,
      "outputs": []
    },
    {
      "cell_type": "code",
      "source": [
        "frog = plt.imread('frog.jpeg')\n",
        "model(transform(frog).to(device).unsqueeze(dim=0))"
      ],
      "metadata": {
        "colab": {
          "base_uri": "https://localhost:8080/"
        },
        "id": "oAC2jGK5ixr5",
        "outputId": "3d16f38e-370e-4501-c3b4-628fb08cd029"
      },
      "execution_count": null,
      "outputs": [
        {
          "output_type": "stream",
          "name": "stderr",
          "text": [
            "<ipython-input-4-e8b0128bed20>:13: UserWarning: Implicit dimension choice for softmax has been deprecated. Change the call to include dim=X as an argument.\n",
            "  return F.softmax(self.fc(torch.flatten(feature, start_dim=1)))\n"
          ]
        },
        {
          "output_type": "execute_result",
          "data": {
            "text/plain": [
              "tensor([[2.2349e-09, 4.9708e-09, 7.5917e-09, 3.8041e-08, 7.5307e-09, 7.7840e-09,\n",
              "         1.0000e+00, 1.7682e-08, 7.4187e-09, 3.6017e-09]], device='cuda:0',\n",
              "       grad_fn=<SoftmaxBackward0>)"
            ]
          },
          "metadata": {},
          "execution_count": 47
        }
      ]
    },
    {
      "cell_type": "code",
      "execution_count": null,
      "metadata": {
        "id": "WFI5dqG3xtBN",
        "colab": {
          "base_uri": "https://localhost:8080/",
          "height": 895
        },
        "outputId": "c96d4c37-10ac-434d-e4b0-36218c4ebb24"
      },
      "outputs": [
        {
          "output_type": "stream",
          "name": "stderr",
          "text": [
            "<ipython-input-54-e8b0128bed20>:13: UserWarning: Implicit dimension choice for softmax has been deprecated. Change the call to include dim=X as an argument.\n",
            "  return F.softmax(self.fc(torch.flatten(feature, start_dim=1)))\n"
          ]
        },
        {
          "output_type": "display_data",
          "data": {
            "text/plain": [
              "<Figure size 640x480 with 1 Axes>"
            ],
            "image/png": "[encoded data removed]"
          },
          "metadata": {}
        },
        {
          "output_type": "display_data",
          "data": {
            "text/plain": [
              "<Figure size 640x480 with 1 Axes>"
            ],
            "image/png": "[encoded data removed]"
          },
          "metadata": {}
        }
      ],
      "source": [
        "#### To Do (2 pts) #####\n",
        "# Show the frog and ship images\n",
        "# Evaluate model on them (compute predicted label)\n",
        "frog = plt.imread('frog.jpeg')\n",
        "ship = plt.imread('ship.jpeg')\n",
        "\n",
        "frog_tensor = transform(frog).to(device).unsqueeze(dim=0)\n",
        "ship_tensor = transform(ship).to(device).unsqueeze(dim=0)\n",
        "\n",
        "model.eval()\n",
        "pred_frog = model(frog_tensor)\n",
        "pred_ship = model(ship_tensor)\n",
        "\n",
        "frog_conf = pred_frog[0, 6].item()\n",
        "frog_conf_ship = pred_frog[0, 8].item()\n",
        "\n",
        "ship_conf = pred_ship[0, 8].item()\n",
        "ship_conf_frog = pred_ship[0, 6].item()\n",
        "\n",
        "frog_label = pred_frog.max(1)[1]\n",
        "ship_label = pred_ship.max(1)[1]\n",
        "\n",
        "plt.imshow(frog)\n",
        "plt.title(f'frog image, predicted label={classes[frog_label]}, frog_prob={round(frog_conf, 8)}, ship prob:{round(frog_conf_ship, 8)}')\n",
        "plt.axis(False)\n",
        "plt.show()\n",
        "\n",
        "plt.imshow(ship)\n",
        "plt.title(f'ship image, predicted label={classes[ship_label]}, ship_prob={round(ship_conf, 8)}, frog_prob:{round(ship_conf_frog, 15)}')\n",
        "plt.axis(False)\n",
        "plt.show()\n",
        "################"
      ]
    },
    {
      "cell_type": "code",
      "execution_count": null,
      "metadata": {
        "id": "mFFCEd3Xfh3u"
      },
      "outputs": [],
      "source": [
        "def poisoning_example_generation(t, b, f, lmda=0.0009, max_iters=10, beta=1):\n",
        "    \"\"\"\n",
        "    t: target instance\n",
        "    b: base instance\n",
        "    f: feature extractor\n",
        "    lambda: learning rate\n",
        "    \"\"\"\n",
        "    #### To Do (9 pts) #####\n",
        "    # Create poisoned sample by following the algorithm you've learned in the class\n",
        "    f.eval()\n",
        "    def LP2(f, sample, t):\n",
        "        lx = f(sample).squeeze(0)\n",
        "        lt = f(t).squeeze(0)\n",
        "        return (torch.linalg.norm(lx - lt))**2\n",
        "\n",
        "    t = t.clone().detach()\n",
        "    t = t.to(device)\n",
        "\n",
        "    # sample = b.clone().detach()\n",
        "    # sample.requiers_grad = True\n",
        "\n",
        "\n",
        "    sample = Variable(b.data, requires_grad = True)\n",
        "    b = b.clone().detach()\n",
        "    b = b.to(device)\n",
        "\n",
        "\n",
        "    for _ in range(max_iters):\n",
        "        sample = Variable(sample.data, requires_grad = True)\n",
        "        loss = LP2(f, sample, t)\n",
        "        # loss = nn.CrossEntropyLoss()(model(sample), torch.tensor([1]).to(device))\n",
        "        f.zero_grad()\n",
        "        loss.backward()\n",
        "        # step 1\n",
        "        sample = sample - lmda*sample.grad.data\n",
        "\n",
        "        # step 2\n",
        "        sample = (sample + lmda*beta*b) / (1+beta*lmda)\n",
        "\n",
        "    ################\n",
        "\n",
        "    return sample"
      ]
    },
    {
      "cell_type": "code",
      "execution_count": null,
      "metadata": {
        "id": "uV4B_Dc_gdcr"
      },
      "outputs": [],
      "source": [
        "#### To Do (2 pts) #####\n",
        "# Create poisoned samples\n",
        "# Evaluate model on them (compute predicted label)\n",
        "# Access the child layers of the model\n",
        "children = list(model.children())\n",
        "f_layers = children[:-1]\n",
        "f = nn.Sequential(*f_layers)\n",
        "\n",
        "poisoned_ship = poisoning_example_generation(frog_tensor, ship_tensor, f, max_iters=10)\n",
        "poisoned_frog = poisoning_example_generation(ship_tensor, frog_tensor, f, max_iters=10)\n",
        "\n",
        "################"
      ]
    },
    {
      "cell_type": "code",
      "source": [
        "#### To Do (2 pts) #####\n",
        "# Show the frog and ship images\n",
        "# Evaluate model on them (compute predicted label)\n",
        "model.eval()\n",
        "pred_frog = model(poisoned_frog)\n",
        "pred_ship = model(poisoned_ship)\n",
        "\n",
        "frog_conf = pred_frog[0, 6].item()\n",
        "frog_conf_ship = pred_frog[0, 8].item()\n",
        "\n",
        "ship_conf = pred_ship[0, 8].item()\n",
        "ship_conf_frog = pred_ship[0, 6].item()\n",
        "\n",
        "\n",
        "frog_label = pred_frog.max(1)[1]\n",
        "ship_label = pred_ship.max(1)[1]\n",
        "\n",
        "poisoned_frog_to_show = poisoned_frog.squeeze()\n",
        "poisoned_frog_to_show = poisoned_frog_to_show.permute(2, 1, 0)\n",
        "poisoned_frog_to_show = poisoned_frog_to_show.cpu()\n",
        "poisoned_frog_to_show = poisoned_frog_to_show.detach()\n",
        "poisoned_frog_to_show = poisoned_frog_to_show.numpy()\n",
        "plt.imshow(poisoned_frog_to_show)\n",
        "plt.title(f'attacked frog image, predicted label={classes[frog_label]}, frog_prob={round(frog_conf, 8)}, ship prob:{round(frog_conf_ship, 8)}')\n",
        "plt.axis(False)\n",
        "plt.show()\n",
        "\n",
        "poisoned_ship_to_show = poisoned_ship.squeeze()\n",
        "poisoned_ship_to_show = poisoned_ship_to_show.permute(2, 1, 0)\n",
        "poisoned_ship_to_show = poisoned_ship_to_show.cpu()\n",
        "poisoned_ship_to_show = poisoned_ship_to_show.detach()\n",
        "poisoned_ship_to_show = poisoned_ship_to_show.numpy()\n",
        "plt.imshow(poisoned_ship_to_show)\n",
        "plt.title(f'attacked ship image, predicted label={classes[ship_label]}, ship_prob={round(ship_conf, 8)}, frog_prob:{round(ship_conf_frog, 15)}')\n",
        "plt.axis(False)\n",
        "plt.show()\n",
        "\n",
        "\n",
        "################"
      ],
      "metadata": {
        "colab": {
          "base_uri": "https://localhost:8080/",
          "height": 930
        },
        "id": "vx4PM375uXzq",
        "outputId": "dd41bf4b-3577-45fb-c56a-297918aed834"
      },
      "execution_count": null,
      "outputs": [
        {
          "output_type": "stream",
          "name": "stderr",
          "text": [
            "<ipython-input-54-e8b0128bed20>:13: UserWarning: Implicit dimension choice for softmax has been deprecated. Change the call to include dim=X as an argument.\n",
            "  return F.softmax(self.fc(torch.flatten(feature, start_dim=1)))\n",
            "WARNING:matplotlib.image:Clipping input data to the valid range for imshow with RGB data ([0..1] for floats or [0..255] for integers).\n"
          ]
        },
        {
          "output_type": "display_data",
          "data": {
            "text/plain": [
              "<Figure size 640x480 with 1 Axes>"
            ],
            "image/png": "[encoded data removed]"
          },
          "metadata": {}
        },
        {
          "output_type": "stream",
          "name": "stderr",
          "text": [
            "WARNING:matplotlib.image:Clipping input data to the valid range for imshow with RGB data ([0..1] for floats or [0..255] for integers).\n"
          ]
        },
        {
          "output_type": "display_data",
          "data": {
            "text/plain": [
              "<Figure size 640x480 with 1 Axes>"
            ],
            "image/png": "[encoded data removed]"
          },
          "metadata": {}
        }
      ]
    }
  ],
  "metadata": {
    "accelerator": "GPU",
    "colab": {
      "gpuType": "T4",
      "provenance": [],
      "include_colab_link": true
    },
    "gpuClass": "standard",
    "kernelspec": {
      "display_name": "Python 3",
      "language": "python",
      "name": "python3"
    },
    "language_info": {
      "codemirror_mode": {
        "name": "ipython",
        "version": 3
      },
      "file_extension": ".py",
      "mimetype": "text/x-python",
      "name": "python",
      "nbconvert_exporter": "python",
      "pygments_lexer": "ipython3",
      "version": "3.8.5"
    }
  },
  "nbformat": 4,
  "nbformat_minor": 0
}