{
  "cells": [
    {
      "cell_type": "markdown",
      "metadata": {
        "id": "view-in-github",
        "colab_type": "text"
      },
      "source": [
        "<a href=\"https://colab.research.google.com/github/alirezasakhaei/SPML_Course2023_Homeworks/blob/main/HW06/poisoning_example_generation.ipynb\" target=\"_parent\"><img src=\"https://colab.research.google.com/assets/colab-badge.svg\" alt=\"Open In Colab\"/></a>"
      ]
    },
    {
      "cell_type": "code",
      "execution_count": 1,
      "metadata": {
        "id": "RJuHE19ee_jj"
      },
      "outputs": [],
      "source": [
        "import torch\n",
        "import torch.nn as nn\n",
        "import torch.nn.functional as F\n",
        "import torch.optim as optim\n",
        "import torchvision\n",
        "import torchvision.transforms as transforms\n",
        "from torchvision.models import resnet18, ResNet18_Weights\n",
        "import matplotlib.pyplot as plt\n",
        "import numpy as np\n",
        "from PIL import Image\n",
        "from torch.autograd import Variable\n"
      ]
    },
    {
      "cell_type": "code",
      "execution_count": 2,
      "metadata": {
        "id": "9cPZTXMnh1Vo"
      },
      "outputs": [],
      "source": [
        "device = torch.device('cuda:0' if torch.cuda.is_available() else 'cpu')"
      ]
    },
    {
      "cell_type": "code",
      "execution_count": 3,
      "metadata": {
        "id": "kv8fjDpOyG6q",
        "colab": {
          "base_uri": "https://localhost:8080/"
        },
        "outputId": "945015c8-42de-4541-aa7a-98014e554567"
      },
      "outputs": [
        {
          "output_type": "stream",
          "name": "stdout",
          "text": [
            "Downloading https://www.cs.toronto.edu/~kriz/cifar-10-python.tar.gz to ./data/cifar-10-python.tar.gz\n"
          ]
        },
        {
          "output_type": "stream",
          "name": "stderr",
          "text": [
            "100%|██████████| 170498071/170498071 [00:13<00:00, 12961233.55it/s]\n"
          ]
        },
        {
          "output_type": "stream",
          "name": "stdout",
          "text": [
            "Extracting ./data/cifar-10-python.tar.gz to ./data\n",
            "Files already downloaded and verified\n"
          ]
        }
      ],
      "source": [
        "transform = transforms.Compose(\n",
        "    [transforms.ToTensor(),\n",
        "     transforms.Normalize((0.5, 0.5, 0.5), (0.5, 0.5, 0.5))])\n",
        "\n",
        "batch_size = 1024\n",
        "\n",
        "trainset = torchvision.datasets.CIFAR10(root='./data', train=True,\n",
        "                                        download=True, transform=transform)\n",
        "trainloader = torch.utils.data.DataLoader(trainset, batch_size=batch_size,\n",
        "                                          shuffle=True, num_workers=2)\n",
        "\n",
        "testset = torchvision.datasets.CIFAR10(root='./data', train=False,\n",
        "                                       download=True, transform=transform)\n",
        "testloader = torch.utils.data.DataLoader(testset, batch_size=batch_size,\n",
        "                                         shuffle=False, num_workers=2)\n",
        "\n",
        "classes = ('plane', 'car', 'bird', 'cat',\n",
        "           'deer', 'dog', 'frog', 'horse', 'ship', 'truck')"
      ]
    },
    {
      "cell_type": "code",
      "execution_count": 4,
      "metadata": {
        "id": "7mP3FZpqSLba"
      },
      "outputs": [],
      "source": [
        "class Net(nn.Module):\n",
        "    def __init__(self):\n",
        "        super(Net, self).__init__()\n",
        "        self.feature_extractor = nn.Sequential(\n",
        "            *list(resnet18(pretrained=True).children())[:-2])\n",
        "        self.fc = nn.Linear(512, 10)\n",
        "\n",
        "    def get_features(self, x):\n",
        "      return self.feature_extractor(x)\n",
        "\n",
        "    def forward(self, x):\n",
        "        feature = self.get_features(x)\n",
        "        return F.softmax(self.fc(torch.flatten(feature, start_dim=1)))"
      ]
    },
    {
      "cell_type": "code",
      "execution_count": 11,
      "metadata": {
        "id": "ArhuwLbOTkdS"
      },
      "outputs": [],
      "source": [
        "model = Net().to(device)"
      ]
    },
    {
      "cell_type": "code",
      "execution_count": 12,
      "metadata": {
        "id": "9pnPaN6ukfEm"
      },
      "outputs": [],
      "source": [
        "import torch.optim as optim\n",
        "\n",
        "criterion = nn.CrossEntropyLoss()\n",
        "optimizer = optim.Adam(model.parameters())\n",
        "num_epochs = 10"
      ]
    },
    {
      "cell_type": "code",
      "source": [
        "def calc_acc(model, loader):\n",
        "    model.eval()\n",
        "    correct = 0\n",
        "    total = 0\n",
        "    for (data, label) in loader:\n",
        "        data, label = data.to(device), label.to(device)\n",
        "        _, output = model(data).max(1)\n",
        "        total += data.shape[0]\n",
        "        correct += (label == output).sum().item()\n",
        "    return correct / total"
      ],
      "metadata": {
        "id": "-DUHorKHXJf9"
      },
      "execution_count": 13,
      "outputs": []
    },
    {
      "cell_type": "code",
      "execution_count": 14,
      "metadata": {
        "id": "4nU8BAnHkrpp",
        "colab": {
          "base_uri": "https://localhost:8080/"
        },
        "outputId": "b5f81ef4-4502-411c-a29b-f63d70acbcd4"
      },
      "outputs": [
        {
          "output_type": "stream",
          "name": "stderr",
          "text": [
            "<ipython-input-4-5da27c78fcc5>:13: UserWarning: Implicit dimension choice for softmax has been deprecated. Change the call to include dim=X as an argument.\n",
            "  return F.softmax(self.fc(torch.flatten(feature, start_dim=1)))\n"
          ]
        },
        {
          "output_type": "stream",
          "name": "stdout",
          "text": [
            "Epoch: 0 || Train Acc: 0.69302, Test Acc: 0.6735\n",
            "Epoch: 1 || Train Acc: 0.69002, Test Acc: 0.6652\n",
            "Epoch: 2 || Train Acc: 0.71936, Test Acc: 0.6929\n",
            "Epoch: 3 || Train Acc: 0.7366, Test Acc: 0.7092\n",
            "Epoch: 4 || Train Acc: 0.70178, Test Acc: 0.6739\n",
            "Epoch: 5 || Train Acc: 0.78176, Test Acc: 0.7422\n",
            "Epoch: 6 || Train Acc: 0.77832, Test Acc: 0.7365\n",
            "Epoch: 7 || Train Acc: 0.78518, Test Acc: 0.7369\n",
            "Epoch: 8 || Train Acc: 0.76352, Test Acc: 0.7227\n",
            "Epoch: 9 || Train Acc: 0.7915, Test Acc: 0.7438\n"
          ]
        }
      ],
      "source": [
        "model.train()\n",
        "for epoch in range(num_epochs):\n",
        "    #### To Do (4 pts) #####\n",
        "    # Fine-tune model on CIFAR-10 dataset\\\n",
        "    model.train()\n",
        "    for (data, target) in trainloader:\n",
        "        data, target = data.to(device), target.to(device)\n",
        "        output = model(data)\n",
        "        model.zero_grad()\n",
        "        loss = criterion(output, target)\n",
        "        loss.backward()\n",
        "        optimizer.step()\n",
        "\n",
        "    acc_train = calc_acc(model, trainloader)\n",
        "    acc_test = calc_acc(model, testloader)\n",
        "\n",
        "    print(f'Epoch: {epoch} || Train Acc: {acc_train}, Test Acc: {acc_test}')\n",
        "    ################"
      ]
    },
    {
      "cell_type": "code",
      "source": [
        "di = model.state_dict()\n",
        "torch.save(di, 'model_state_dict.pth')\n"
      ],
      "metadata": {
        "id": "rOehbvPSHVCP"
      },
      "execution_count": 16,
      "outputs": []
    },
    {
      "cell_type": "code",
      "execution_count": 15,
      "metadata": {
        "id": "WFI5dqG3xtBN",
        "colab": {
          "base_uri": "https://localhost:8080/",
          "height": 895
        },
        "outputId": "59028971-28e1-439a-9d72-482164cc61c9"
      },
      "outputs": [
        {
          "output_type": "stream",
          "name": "stderr",
          "text": [
            "<ipython-input-4-5da27c78fcc5>:13: UserWarning: Implicit dimension choice for softmax has been deprecated. Change the call to include dim=X as an argument.\n",
            "  return F.softmax(self.fc(torch.flatten(feature, start_dim=1)))\n"
          ]
        },
        {
          "output_type": "display_data",
          "data": {
            "text/plain": [
              "<Figure size 640x480 with 1 Axes>"
            ],
            "image/png": "[encoded data removed]"
          },
          "metadata": {}
        },
        {
          "output_type": "display_data",
          "data": {
            "text/plain": [
              "<Figure size 640x480 with 1 Axes>"
            ],
            "image/png": "[encoded data removed]"
          },
          "metadata": {}
        }
      ],
      "source": [
        "#### To Do (2 pts) #####\n",
        "# Show the frog and ship images\n",
        "# Evaluate model on them (compute predicted label)\n",
        "frog = plt.imread('frog.jpeg')\n",
        "ship = plt.imread('ship.jpeg')\n",
        "\n",
        "frog_tensor = transform(frog).to(device).unsqueeze(dim=0)\n",
        "ship_tensor = transform(ship).to(device).unsqueeze(dim=0)\n",
        "\n",
        "model.eval()\n",
        "pred_frog = model(frog_tensor)\n",
        "pred_ship = model(ship_tensor)\n",
        "\n",
        "frog_conf = pred_frog[0, 6].item()\n",
        "ship_conf = pred_ship[0, 8].item()\n",
        "\n",
        "frog_label = pred_frog.max(1)[1]\n",
        "ship_label = pred_ship.max(1)[1]\n",
        "\n",
        "plt.imshow(frog)\n",
        "plt.title(f'frog image, predicted label={classes[frog_label]}, conf={round(frog_conf, 2)}')\n",
        "plt.axis(False)\n",
        "plt.show()\n",
        "\n",
        "plt.imshow(ship)\n",
        "plt.title(f'ship image, predicted label={classes[ship_label]}, conf={round(ship_conf, 2)}')\n",
        "plt.axis(False)\n",
        "plt.show()\n",
        "################"
      ]
    },
    {
      "cell_type": "code",
      "execution_count": 37,
      "metadata": {
        "id": "mFFCEd3Xfh3u"
      },
      "outputs": [],
      "source": [
        "def poisoning_example_generation(t, b, f, lmda=0.1, max_iters=10, beta=1):\n",
        "    \"\"\"\n",
        "    t: target instance\n",
        "    b: base instance\n",
        "    f: feature extractor\n",
        "    lambda: learning rate\n",
        "    \"\"\"\n",
        "    #### To Do (9 pts) #####\n",
        "    # Create poisoned sample by following the algorithm you've learned in the class\n",
        "    f.eval()\n",
        "    def LP2(f, sample, t):\n",
        "        lx = f(sample).squeeze(0)\n",
        "        lt = f(t).squeeze(0)\n",
        "        return (torch.linalg.norm(lx - lt))**2\n",
        "\n",
        "    t = t.clone().detach()\n",
        "    t = t.to(device)\n",
        "\n",
        "    # sample = b.clone().detach()\n",
        "    # sample.requiers_grad = True\n",
        "\n",
        "\n",
        "    sample = Variable(b.data, requires_grad = True)\n",
        "    b = b.clone().detach()\n",
        "    b = b.to(device)\n",
        "\n",
        "\n",
        "    for _ in range(max_iters):\n",
        "        sample = Variable(sample.data, requires_grad = True)\n",
        "        loss = LP2(f, sample, t)\n",
        "        # loss = nn.CrossEntropyLoss()(model(sample), torch.tensor([1]).to(device))\n",
        "        f.zero_grad()\n",
        "        loss.backward()\n",
        "        # step 1\n",
        "        sample = sample - lmda*sample.grad.data\n",
        "\n",
        "        # step 2\n",
        "        sample = (sample + lmda*beta*b) / (1+beta*lmda)\n",
        "\n",
        "    ################\n",
        "\n",
        "    return sample"
      ]
    },
    {
      "cell_type": "code",
      "execution_count": 38,
      "metadata": {
        "id": "uV4B_Dc_gdcr"
      },
      "outputs": [],
      "source": [
        "#### To Do (2 pts) #####\n",
        "# Create poisoned samples\n",
        "# Evaluate model on them (compute predicted label)\n",
        "# Access the child layers of the model\n",
        "children = list(model.children())\n",
        "f_layers = children[:-1]\n",
        "f = nn.Sequential(*f_layers)\n",
        "\n",
        "poisoned_ship = poisoning_example_generation(frog_tensor, ship_tensor, f)\n",
        "poisoned_frog = poisoning_example_generation(ship_tensor, frog_tensor, f)\n",
        "\n",
        "################"
      ]
    },
    {
      "cell_type": "code",
      "source": [
        "#### To Do (2 pts) #####\n",
        "# Show the frog and ship images\n",
        "# Evaluate model on them (compute predicted label)\n",
        "model.eval()\n",
        "pred_frog = model(poisoned_ship)\n",
        "pred_ship = model(poisoned_frog)\n",
        "\n",
        "frog_conf = pred_frog[0, 6].item()\n",
        "ship_conf = pred_ship[0, 8].item()\n",
        "\n",
        "frog_label = pred_frog.max(1)[1]\n",
        "ship_label = pred_ship.max(1)[1]\n",
        "\n",
        "plt.imshow(frog)\n",
        "plt.title(f'attacked frog image, predicted label={classes[frog_label]}, frog conf={round(frog_conf, 2)}')\n",
        "plt.axis(False)\n",
        "plt.show()\n",
        "\n",
        "plt.imshow(ship)\n",
        "plt.title(f'attacked ship image, predicted label={classes[ship_label]}, ship conf={round(ship_conf, 2)}')\n",
        "plt.axis(False)\n",
        "plt.show()\n",
        "################"
      ],
      "metadata": {
        "colab": {
          "base_uri": "https://localhost:8080/",
          "height": 895
        },
        "id": "vx4PM375uXzq",
        "outputId": "acd4164d-05e6-4094-a3f3-3d8aeddd2aa4"
      },
      "execution_count": 40,
      "outputs": [
        {
          "output_type": "stream",
          "name": "stderr",
          "text": [
            "<ipython-input-4-5da27c78fcc5>:13: UserWarning: Implicit dimension choice for softmax has been deprecated. Change the call to include dim=X as an argument.\n",
            "  return F.softmax(self.fc(torch.flatten(feature, start_dim=1)))\n"
          ]
        },
        {
          "output_type": "display_data",
          "data": {
            "text/plain": [
              "<Figure size 640x480 with 1 Axes>"
            ],
            "image/png": "[encoded data removed]"
          },
          "metadata": {}
        },
        {
          "output_type": "display_data",
          "data": {
            "text/plain": [
              "<Figure size 640x480 with 1 Axes>"
            ],
            "image/png": "[encoded data removed]"
          },
          "metadata": {}
        }
      ]
    }
  ],
  "metadata": {
    "accelerator": "GPU",
    "colab": {
      "gpuType": "T4",
      "provenance": [],
      "include_colab_link": true
    },
    "gpuClass": "standard",
    "kernelspec": {
      "display_name": "Python 3",
      "language": "python",
      "name": "python3"
    },
    "language_info": {
      "codemirror_mode": {
        "name": "ipython",
        "version": 3
      },
      "file_extension": ".py",
      "mimetype": "text/x-python",
      "name": "python",
      "nbconvert_exporter": "python",
      "pygments_lexer": "ipython3",
      "version": "3.8.5"
    }
  },
  "nbformat": 4,
  "nbformat_minor": 0
}