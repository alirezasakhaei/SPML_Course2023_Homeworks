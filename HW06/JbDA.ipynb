{
  "cells": [
    {
      "cell_type": "markdown",
      "metadata": {
        "id": "view-in-github",
        "colab_type": "text"
      },
      "source": [
        "<a href=\"https://colab.research.google.com/github/alirezasakhaei/SPML_Course2023_Homeworks/blob/main/HW06/JbDA.ipynb\" target=\"_parent\"><img src=\"https://colab.research.google.com/assets/colab-badge.svg\" alt=\"Open In Colab\"/></a>"
      ]
    },
    {
      "cell_type": "markdown",
      "metadata": {
        "id": "UgIHjec_9wuO"
      },
      "source": [
        "**SPML**\n",
        "\n",
        "**HW6**\n",
        "\n",
        "**Name: ** Alireza Sakhaeirad\n",
        "\n",
        "**Student No.: ** 98101714"
      ]
    },
    {
      "cell_type": "markdown",
      "source": [
        "# JDBA"
      ],
      "metadata": {
        "id": "lR1Al7m1A95h"
      }
    },
    {
      "cell_type": "markdown",
      "metadata": {
        "id": "d2QKhc9H94VM"
      },
      "source": [
        "1. Import libraries"
      ]
    },
    {
      "cell_type": "code",
      "execution_count": 1,
      "metadata": {
        "id": "BJAHH85K90lQ"
      },
      "outputs": [],
      "source": [
        "import os\n",
        "import sys\n",
        "import numpy as np\n",
        "import matplotlib.pyplot as plt\n",
        "%matplotlib inline\n",
        "import time\n",
        "\n",
        "import torch\n",
        "import torch.nn as nn\n",
        "import torch.optim as optim\n",
        "\n",
        "import torchvision.utils\n",
        "from torchvision import models\n",
        "import torchvision.datasets as dsets\n",
        "import torchvision.transforms as transforms"
      ]
    },
    {
      "cell_type": "markdown",
      "metadata": {
        "id": "tLh3MCsi-LkW"
      },
      "source": [
        "2. Define model"
      ]
    },
    {
      "cell_type": "code",
      "execution_count": 2,
      "metadata": {
        "id": "rB5ycNUO-RQG"
      },
      "outputs": [],
      "source": [
        "class CNN(nn.Module):\n",
        "    def __init__(self):\n",
        "        super(CNN, self).__init__()\n",
        "\n",
        "        self.layer = nn.Sequential(\n",
        "            nn.Conv2d(1,16,5), # 16*24*24\n",
        "            nn.ReLU(),\n",
        "            nn.Conv2d(16,32,5), # 32*20*20\n",
        "            nn.ReLU(),\n",
        "            nn.MaxPool2d(2,2), # 32*10*10\n",
        "            nn.Conv2d(32,64,5), # 64*6*6\n",
        "            nn.ReLU(),\n",
        "            nn.MaxPool2d(2,2) #64*3*3\n",
        "        )\n",
        "\n",
        "        self.fc_layer = nn.Sequential(\n",
        "            nn.Linear(64*3*3,100),\n",
        "            nn.ReLU(),\n",
        "            nn.Linear(100,10)\n",
        "        )\n",
        "\n",
        "    def forward(self,x):\n",
        "        out = self.layer(x)\n",
        "        out = out.view(-1,64*3*3)\n",
        "        out = self.fc_layer(out)\n",
        "\n",
        "        return out\n",
        ""
      ]
    },
    {
      "cell_type": "markdown",
      "metadata": {
        "id": "xlgMDm1R_bzk"
      },
      "source": [
        "3. Load original dataset"
      ]
    },
    {
      "cell_type": "code",
      "execution_count": 3,
      "metadata": {
        "collapsed": true,
        "id": "563DKviw_UYO",
        "colab": {
          "base_uri": "https://localhost:8080/"
        },
        "outputId": "f17316b7-03f1-44ab-b6fa-cd67928e522c"
      },
      "outputs": [
        {
          "output_type": "stream",
          "name": "stdout",
          "text": [
            "Downloading http://yann.lecun.com/exdb/mnist/train-images-idx3-ubyte.gz\n",
            "Downloading http://yann.lecun.com/exdb/mnist/train-images-idx3-ubyte.gz to /root/.pytorch/MNIST_data/MNIST/raw/train-images-idx3-ubyte.gz\n"
          ]
        },
        {
          "output_type": "stream",
          "name": "stderr",
          "text": [
            "100%|██████████| 9912422/9912422 [00:00<00:00, 89655962.57it/s]\n"
          ]
        },
        {
          "output_type": "stream",
          "name": "stdout",
          "text": [
            "Extracting /root/.pytorch/MNIST_data/MNIST/raw/train-images-idx3-ubyte.gz to /root/.pytorch/MNIST_data/MNIST/raw\n",
            "\n",
            "Downloading http://yann.lecun.com/exdb/mnist/train-labels-idx1-ubyte.gz\n",
            "Downloading http://yann.lecun.com/exdb/mnist/train-labels-idx1-ubyte.gz to /root/.pytorch/MNIST_data/MNIST/raw/train-labels-idx1-ubyte.gz\n"
          ]
        },
        {
          "output_type": "stream",
          "name": "stderr",
          "text": [
            "100%|██████████| 28881/28881 [00:00<00:00, 115808502.70it/s]"
          ]
        },
        {
          "output_type": "stream",
          "name": "stdout",
          "text": [
            "Extracting /root/.pytorch/MNIST_data/MNIST/raw/train-labels-idx1-ubyte.gz to /root/.pytorch/MNIST_data/MNIST/raw\n",
            "\n",
            "Downloading http://yann.lecun.com/exdb/mnist/t10k-images-idx3-ubyte.gz\n",
            "Downloading http://yann.lecun.com/exdb/mnist/t10k-images-idx3-ubyte.gz to /root/.pytorch/MNIST_data/MNIST/raw/t10k-images-idx3-ubyte.gz\n"
          ]
        },
        {
          "output_type": "stream",
          "name": "stderr",
          "text": [
            "\n",
            "100%|██████████| 1648877/1648877 [00:00<00:00, 28467135.90it/s]\n"
          ]
        },
        {
          "output_type": "stream",
          "name": "stdout",
          "text": [
            "Extracting /root/.pytorch/MNIST_data/MNIST/raw/t10k-images-idx3-ubyte.gz to /root/.pytorch/MNIST_data/MNIST/raw\n",
            "\n",
            "Downloading http://yann.lecun.com/exdb/mnist/t10k-labels-idx1-ubyte.gz\n",
            "Downloading http://yann.lecun.com/exdb/mnist/t10k-labels-idx1-ubyte.gz to /root/.pytorch/MNIST_data/MNIST/raw/t10k-labels-idx1-ubyte.gz\n"
          ]
        },
        {
          "output_type": "stream",
          "name": "stderr",
          "text": [
            "100%|██████████| 4542/4542 [00:00<00:00, 20374897.08it/s]\n"
          ]
        },
        {
          "output_type": "stream",
          "name": "stdout",
          "text": [
            "Extracting /root/.pytorch/MNIST_data/MNIST/raw/t10k-labels-idx1-ubyte.gz to /root/.pytorch/MNIST_data/MNIST/raw\n",
            "\n"
          ]
        }
      ],
      "source": [
        "# todo: Define Batch size & Load MNIST dataset #\n",
        "from torchvision import datasets, transforms\n",
        "\n",
        "batch_size = 100\n",
        "transform = transforms.Compose([transforms.ToTensor()])\n",
        "\n",
        "# Load the training set\n",
        "trainset = datasets.MNIST('~/.pytorch/MNIST_data/', download=True, train=True, transform=transform)\n",
        "mnist_train = torch.utils.data.DataLoader(trainset, batch_size=batch_size, shuffle=True)\n",
        "\n",
        "# Load the test set\n",
        "testset = datasets.MNIST('~/.pytorch/MNIST_data/', download=True, train=False, transform=transform)\n",
        "mnist_test = torch.utils.data.DataLoader(testset, batch_size=batch_size, shuffle=True)\n",
        "\n",
        "\n",
        "###########\n",
        "\n",
        "device = torch.device(torch.cuda.current_device()) if torch.cuda.is_available() else torch.device('cpu')\n",
        "np.random.seed(0)\n",
        "\n",
        "\n"
      ]
    },
    {
      "cell_type": "markdown",
      "source": [],
      "metadata": {
        "id": "0_j3wAWGhzLB"
      }
    },
    {
      "cell_type": "markdown",
      "metadata": {
        "id": "A5ElW2ZxYErl"
      },
      "source": [
        "## Training the substitute model"
      ]
    },
    {
      "cell_type": "code",
      "execution_count": 6,
      "metadata": {
        "id": "nX0w-T0waraC",
        "colab": {
          "base_uri": "https://localhost:8080/"
        },
        "outputId": "76c62fc0-78fb-43cd-c153-e97e0416875e"
      },
      "outputs": [
        {
          "output_type": "execute_result",
          "data": {
            "text/plain": [
              "<All keys matched successfully>"
            ]
          },
          "metadata": {},
          "execution_count": 6
        }
      ],
      "source": [
        "oracle = CNN().cuda()\n",
        "\n",
        "# todo: load oracle's checkpoint\n",
        "weights = torch.load('checkpoint.pth')\n",
        "oracle.load_state_dict(weights)"
      ]
    },
    {
      "cell_type": "markdown",
      "metadata": {
        "id": "AcFGZQ1EYErl"
      },
      "source": [
        "Defining the model"
      ]
    },
    {
      "cell_type": "code",
      "execution_count": 7,
      "metadata": {
        "collapsed": true,
        "id": "D0oRvs5wYErl"
      },
      "outputs": [],
      "source": [
        "class Net(nn.Module):\n",
        "    def __init__(self):\n",
        "        super().__init__()\n",
        "        ### TO DO ###\n",
        "        self.conv1 = nn.Conv2d(in_channels=1, out_channels=32, kernel_size=3)\n",
        "        self.pool1 = nn.MaxPool2d(kernel_size=2)\n",
        "        self.conv2 = nn.Conv2d(in_channels=32, out_channels=64, kernel_size=3)\n",
        "        self.pool2 = nn.MaxPool2d(kernel_size=2)\n",
        "        self.fc1 = nn.Linear(in_features=64 * 5 * 5, out_features=128)\n",
        "        self.fc2 = nn.Linear(in_features=128, out_features=10)\n",
        "        #############\n",
        "\n",
        "    def forward(self, x):\n",
        "        ### TO DO ###\n",
        "        x = nn.functional.relu(self.conv1(x))\n",
        "        x = self.pool1(x)\n",
        "\n",
        "        x = nn.functional.relu(self.conv2(x))\n",
        "        x = self.pool2(x)\n",
        "        x = x.view(-1, 64 * 5 * 5)\n",
        "        x = nn.functional.relu(self.fc1(x))\n",
        "\n",
        "        x = self.fc2(x)\n",
        "        #############\n",
        "        return x"
      ]
    },
    {
      "cell_type": "markdown",
      "metadata": {
        "id": "WJ2urUdbYErl"
      },
      "source": [
        "Implement Jacobian-based Data Augmentation Algorithm"
      ]
    },
    {
      "cell_type": "code",
      "source": [
        "import torch\n",
        "from torch.autograd import Variable\n",
        "\n",
        "from torch.utils.data import TensorDataset, DataLoader"
      ],
      "metadata": {
        "id": "cD-PX0w-owyr"
      },
      "execution_count": 8,
      "outputs": []
    },
    {
      "cell_type": "code",
      "execution_count": 9,
      "metadata": {
        "collapsed": true,
        "id": "lRNWEXhuYErl"
      },
      "outputs": [],
      "source": [
        "def train_JDA(net, X, oracle, epochs=45, lmbd=0.1, max_rho=6):\n",
        "    ### TO DO ###\n",
        "    ### Note that you can only use the prediction labels in the training\n",
        "    ### You can get the prediction labels using net(X).max(1).indices\n",
        "    def reset_param(net):\n",
        "        for layer in net.children():\n",
        "            try:\n",
        "                layer.reset_parameters()\n",
        "            except:\n",
        "                pass\n",
        "\n",
        "    def train_one_epoch(net, loader, opt, criterian):\n",
        "        # global y\n",
        "        # global X\n",
        "        reset_param(net)\n",
        "        loader = make_the_loader(X)\n",
        "\n",
        "\n",
        "        for epoch in range(epochs):\n",
        "            acc = true_acc(net)\n",
        "            fidelity = compute_accuracy(net, X, oracle)\n",
        "            print(f'\\t epoch {epoch}: True acc: {round(acc, 3)} / Fidelity: {fidelity}', end='\\n')\n",
        "\n",
        "            net.train()\n",
        "            for data in loader:\n",
        "                data = data.to(device)\n",
        "                # la = la.to(device)\n",
        "                _, label = oracle(data).max(1)\n",
        "\n",
        "                output = net(data)\n",
        "                loss = criterian(output, label)\n",
        "                net.zero_grad()\n",
        "                loss.backward()\n",
        "                opt.step()\n",
        "\n",
        "\n",
        "\n",
        "    def make_the_loader(dataset):\n",
        "        if not isinstance(dataset, torch.Tensor):\n",
        "            dataset = torch.tensor(dataset)\n",
        "        # dataset = TensorDataset(x)\n",
        "        dataloader = DataLoader(dataset, batch_size=4, shuffle=True)\n",
        "        return dataloader\n",
        "\n",
        "    def dataset_augmentation(net, X, oracle):\n",
        "        # global y, X\n",
        "        loader = make_the_loader(X)\n",
        "        for data in loader:\n",
        "            data = data.to(device)\n",
        "            data.requiers_grad = False\n",
        "            _, labels = oracle(data).max(1)\n",
        "\n",
        "            data = Variable(data.detach(),requires_grad = True)\n",
        "            pred = net(data)\n",
        "\n",
        "            pred_selected = torch.gather(pred, dim=1, index=labels.view(-1, 1)).squeeze()\n",
        "            quasi_loss = torch.sum(pred_selected)\n",
        "\n",
        "            net.zero_grad()\n",
        "            quasi_loss.backward()\n",
        "            new_data = data - lmbd * data.grad.sign()\n",
        "            X = torch.cat((X, new_data), dim=0)\n",
        "\n",
        "    X = X.to(device)\n",
        "    y = torch.tensor([]).to(device)\n",
        "    loader = make_the_loader(X)\n",
        "    for data in loader:\n",
        "        data = data.to(device)\n",
        "        _, labels = oracle(data).max(1)\n",
        "        y = torch.cat((y, labels))\n",
        "\n",
        "    opt = torch.optim.Adam(net.parameters(), lr=0.001)\n",
        "    criterian = torch.nn.CrossEntropyLoss()\n",
        "    for i in range(max_rho):\n",
        "        print(F'Round {i}:', end='\\n')\n",
        "        train_one_epoch(net, X, opt, criterian)\n",
        "        dataset_augmentation(net, X, oracle)\n",
        "    #############\n",
        "\n",
        "# This function is added too\n",
        "def true_acc(model):\n",
        "    model.eval()\n",
        "\n",
        "    c = 0\n",
        "    t = 0\n",
        "    for x, y in mnist_test:\n",
        "        x, y = x.to(device), y.to(device)\n",
        "        pred = model(x)\n",
        "        _, pred = pred.max(1)\n",
        "        num = (pred == y).sum().item()\n",
        "        c += num\n",
        "        t += pred.shape[0]\n",
        "\n",
        "    return c/t\n",
        "\n",
        "def compute_accuracy(net, X, oracle):\n",
        "    ### TO DO ###\n",
        "    net.eval()\n",
        "    if not isinstance(X, torch.Tensor):\n",
        "        X = torch.tensor(X).to(device)\n",
        "    X = X.to(device)\n",
        "\n",
        "    correct = 0\n",
        "    total = 0\n",
        "    for i, x in enumerate(X):\n",
        "        _, label = oracle(x.unsqueeze(dim=0).to(device)).max(1)\n",
        "        _, pred = net(x.unsqueeze(dim=0).to(device)).max(1)\n",
        "        total += 1\n",
        "        if pred == label:\n",
        "            correct += 1\n",
        "\n",
        "    return correct / total\n",
        "    #############"
      ]
    },
    {
      "cell_type": "code",
      "execution_count": 10,
      "metadata": {
        "collapsed": true,
        "id": "JfodgFU9YErm"
      },
      "outputs": [],
      "source": [
        "### TO DO ###\n",
        "### Select 100 images with their labels from the dataset, randomly\n",
        "JDA_train_X, JDA_train_y = next(iter(mnist_test))\n",
        "#############\n",
        "\n",
        "net = Net().to(device)"
      ]
    },
    {
      "cell_type": "code",
      "source": [
        "train_JDA(net, JDA_train_X, oracle)"
      ],
      "metadata": {
        "colab": {
          "base_uri": "https://localhost:8080/"
        },
        "id": "3mvUZy0gtYxe",
        "outputId": "cf48909a-6dd2-45c7-f8a4-b08c03a18273"
      },
      "execution_count": 11,
      "outputs": [
        {
          "output_type": "stream",
          "name": "stdout",
          "text": [
            "Round 0:\n",
            "\t epoch 0: True acc: 0.136 / Fidelity: 0.01\n",
            "\t epoch 1: True acc: 0.133 / Fidelity: 0.5\n",
            "\t epoch 2: True acc: 0.315 / Fidelity: 0.73\n",
            "\t epoch 3: True acc: 0.375 / Fidelity: 0.8\n",
            "\t epoch 4: True acc: 0.415 / Fidelity: 0.9\n",
            "\t epoch 5: True acc: 0.396 / Fidelity: 0.91\n",
            "\t epoch 6: True acc: 0.405 / Fidelity: 0.93\n",
            "\t epoch 7: True acc: 0.417 / Fidelity: 0.9\n",
            "\t epoch 8: True acc: 0.386 / Fidelity: 0.89\n",
            "\t epoch 9: True acc: 0.383 / Fidelity: 0.99\n",
            "\t epoch 10: True acc: 0.407 / Fidelity: 1.0\n",
            "\t epoch 11: True acc: 0.405 / Fidelity: 1.0\n",
            "\t epoch 12: True acc: 0.412 / Fidelity: 1.0\n",
            "\t epoch 13: True acc: 0.41 / Fidelity: 1.0\n",
            "\t epoch 14: True acc: 0.411 / Fidelity: 1.0\n",
            "\t epoch 15: True acc: 0.397 / Fidelity: 1.0\n",
            "\t epoch 16: True acc: 0.427 / Fidelity: 1.0\n",
            "\t epoch 17: True acc: 0.41 / Fidelity: 1.0\n",
            "\t epoch 18: True acc: 0.413 / Fidelity: 1.0\n",
            "\t epoch 19: True acc: 0.411 / Fidelity: 1.0\n",
            "\t epoch 20: True acc: 0.414 / Fidelity: 1.0\n",
            "\t epoch 21: True acc: 0.414 / Fidelity: 1.0\n",
            "\t epoch 22: True acc: 0.413 / Fidelity: 1.0\n",
            "\t epoch 23: True acc: 0.414 / Fidelity: 1.0\n",
            "\t epoch 24: True acc: 0.414 / Fidelity: 1.0\n",
            "\t epoch 25: True acc: 0.415 / Fidelity: 1.0\n",
            "\t epoch 26: True acc: 0.413 / Fidelity: 1.0\n",
            "\t epoch 27: True acc: 0.414 / Fidelity: 1.0\n",
            "\t epoch 28: True acc: 0.415 / Fidelity: 1.0\n",
            "\t epoch 29: True acc: 0.414 / Fidelity: 1.0\n",
            "\t epoch 30: True acc: 0.415 / Fidelity: 1.0\n",
            "\t epoch 31: True acc: 0.416 / Fidelity: 1.0\n",
            "\t epoch 32: True acc: 0.413 / Fidelity: 1.0\n",
            "\t epoch 33: True acc: 0.415 / Fidelity: 1.0\n",
            "\t epoch 34: True acc: 0.415 / Fidelity: 1.0\n",
            "\t epoch 35: True acc: 0.414 / Fidelity: 1.0\n",
            "\t epoch 36: True acc: 0.415 / Fidelity: 1.0\n",
            "\t epoch 37: True acc: 0.414 / Fidelity: 1.0\n",
            "\t epoch 38: True acc: 0.416 / Fidelity: 1.0\n",
            "\t epoch 39: True acc: 0.416 / Fidelity: 1.0\n",
            "\t epoch 40: True acc: 0.415 / Fidelity: 1.0\n",
            "\t epoch 41: True acc: 0.415 / Fidelity: 1.0\n",
            "\t epoch 42: True acc: 0.415 / Fidelity: 1.0\n",
            "\t epoch 43: True acc: 0.415 / Fidelity: 1.0\n",
            "\t epoch 44: True acc: 0.415 / Fidelity: 1.0\n",
            "Round 1:\n",
            "\t epoch 0: True acc: 0.118 / Fidelity: 0.07\n",
            "\t epoch 1: True acc: 0.165 / Fidelity: 0.55\n",
            "\t epoch 2: True acc: 0.239 / Fidelity: 0.69\n",
            "\t epoch 3: True acc: 0.284 / Fidelity: 0.78\n",
            "\t epoch 4: True acc: 0.368 / Fidelity: 0.87\n",
            "\t epoch 5: True acc: 0.372 / Fidelity: 0.92\n",
            "\t epoch 6: True acc: 0.404 / Fidelity: 0.97\n",
            "\t epoch 7: True acc: 0.402 / Fidelity: 0.98\n",
            "\t epoch 8: True acc: 0.388 / Fidelity: 1.0\n",
            "\t epoch 9: True acc: 0.398 / Fidelity: 0.99\n",
            "\t epoch 10: True acc: 0.354 / Fidelity: 1.0\n",
            "\t epoch 11: True acc: 0.424 / Fidelity: 1.0\n",
            "\t epoch 12: True acc: 0.382 / Fidelity: 1.0\n",
            "\t epoch 13: True acc: 0.409 / Fidelity: 1.0\n",
            "\t epoch 14: True acc: 0.402 / Fidelity: 1.0\n",
            "\t epoch 15: True acc: 0.403 / Fidelity: 1.0\n",
            "\t epoch 16: True acc: 0.403 / Fidelity: 1.0\n",
            "\t epoch 17: True acc: 0.403 / Fidelity: 1.0\n",
            "\t epoch 18: True acc: 0.403 / Fidelity: 1.0\n",
            "\t epoch 19: True acc: 0.407 / Fidelity: 1.0\n",
            "\t epoch 20: True acc: 0.404 / Fidelity: 1.0\n",
            "\t epoch 21: True acc: 0.404 / Fidelity: 1.0\n",
            "\t epoch 22: True acc: 0.404 / Fidelity: 1.0\n",
            "\t epoch 23: True acc: 0.405 / Fidelity: 1.0\n",
            "\t epoch 24: True acc: 0.405 / Fidelity: 1.0\n",
            "\t epoch 25: True acc: 0.405 / Fidelity: 1.0\n",
            "\t epoch 26: True acc: 0.406 / Fidelity: 1.0\n",
            "\t epoch 27: True acc: 0.406 / Fidelity: 1.0\n",
            "\t epoch 28: True acc: 0.406 / Fidelity: 1.0\n",
            "\t epoch 29: True acc: 0.406 / Fidelity: 1.0\n",
            "\t epoch 30: True acc: 0.407 / Fidelity: 1.0\n",
            "\t epoch 31: True acc: 0.405 / Fidelity: 1.0\n",
            "\t epoch 32: True acc: 0.406 / Fidelity: 1.0\n",
            "\t epoch 33: True acc: 0.406 / Fidelity: 1.0\n",
            "\t epoch 34: True acc: 0.406 / Fidelity: 1.0\n",
            "\t epoch 35: True acc: 0.406 / Fidelity: 1.0\n",
            "\t epoch 36: True acc: 0.407 / Fidelity: 1.0\n",
            "\t epoch 37: True acc: 0.406 / Fidelity: 1.0\n",
            "\t epoch 38: True acc: 0.406 / Fidelity: 1.0\n",
            "\t epoch 39: True acc: 0.407 / Fidelity: 1.0\n",
            "\t epoch 40: True acc: 0.406 / Fidelity: 1.0\n",
            "\t epoch 41: True acc: 0.406 / Fidelity: 1.0\n",
            "\t epoch 42: True acc: 0.407 / Fidelity: 1.0\n",
            "\t epoch 43: True acc: 0.407 / Fidelity: 1.0\n",
            "\t epoch 44: True acc: 0.406 / Fidelity: 1.0\n",
            "Round 2:\n",
            "\t epoch 0: True acc: 0.086 / Fidelity: 0.22\n",
            "\t epoch 1: True acc: 0.23 / Fidelity: 0.64\n",
            "\t epoch 2: True acc: 0.252 / Fidelity: 0.7\n",
            "\t epoch 3: True acc: 0.347 / Fidelity: 0.85\n",
            "\t epoch 4: True acc: 0.378 / Fidelity: 0.93\n",
            "\t epoch 5: True acc: 0.379 / Fidelity: 0.94\n",
            "\t epoch 6: True acc: 0.356 / Fidelity: 0.97\n",
            "\t epoch 7: True acc: 0.409 / Fidelity: 1.0\n",
            "\t epoch 8: True acc: 0.391 / Fidelity: 0.97\n",
            "\t epoch 9: True acc: 0.414 / Fidelity: 1.0\n",
            "\t epoch 10: True acc: 0.422 / Fidelity: 1.0\n",
            "\t epoch 11: True acc: 0.382 / Fidelity: 1.0\n",
            "\t epoch 12: True acc: 0.414 / Fidelity: 1.0\n",
            "\t epoch 13: True acc: 0.407 / Fidelity: 1.0\n",
            "\t epoch 14: True acc: 0.41 / Fidelity: 1.0\n",
            "\t epoch 15: True acc: 0.411 / Fidelity: 1.0\n",
            "\t epoch 16: True acc: 0.408 / Fidelity: 1.0\n",
            "\t epoch 17: True acc: 0.409 / Fidelity: 1.0\n",
            "\t epoch 18: True acc: 0.41 / Fidelity: 1.0\n",
            "\t epoch 19: True acc: 0.409 / Fidelity: 1.0\n",
            "\t epoch 20: True acc: 0.409 / Fidelity: 1.0\n",
            "\t epoch 21: True acc: 0.411 / Fidelity: 1.0\n",
            "\t epoch 22: True acc: 0.411 / Fidelity: 1.0\n",
            "\t epoch 23: True acc: 0.411 / Fidelity: 1.0\n",
            "\t epoch 24: True acc: 0.41 / Fidelity: 1.0\n",
            "\t epoch 25: True acc: 0.411 / Fidelity: 1.0\n",
            "\t epoch 26: True acc: 0.411 / Fidelity: 1.0\n",
            "\t epoch 27: True acc: 0.411 / Fidelity: 1.0\n",
            "\t epoch 28: True acc: 0.411 / Fidelity: 1.0\n",
            "\t epoch 29: True acc: 0.411 / Fidelity: 1.0\n",
            "\t epoch 30: True acc: 0.411 / Fidelity: 1.0\n",
            "\t epoch 31: True acc: 0.412 / Fidelity: 1.0\n",
            "\t epoch 32: True acc: 0.412 / Fidelity: 1.0\n",
            "\t epoch 33: True acc: 0.412 / Fidelity: 1.0\n",
            "\t epoch 34: True acc: 0.411 / Fidelity: 1.0\n",
            "\t epoch 35: True acc: 0.411 / Fidelity: 1.0\n",
            "\t epoch 36: True acc: 0.412 / Fidelity: 1.0\n",
            "\t epoch 37: True acc: 0.412 / Fidelity: 1.0\n",
            "\t epoch 38: True acc: 0.412 / Fidelity: 1.0\n",
            "\t epoch 39: True acc: 0.412 / Fidelity: 1.0\n",
            "\t epoch 40: True acc: 0.412 / Fidelity: 1.0\n",
            "\t epoch 41: True acc: 0.412 / Fidelity: 1.0\n",
            "\t epoch 42: True acc: 0.412 / Fidelity: 1.0\n",
            "\t epoch 43: True acc: 0.412 / Fidelity: 1.0\n",
            "\t epoch 44: True acc: 0.412 / Fidelity: 1.0\n",
            "Round 3:\n",
            "\t epoch 0: True acc: 0.083 / Fidelity: 0.18\n",
            "\t epoch 1: True acc: 0.238 / Fidelity: 0.63\n",
            "\t epoch 2: True acc: 0.277 / Fidelity: 0.71\n",
            "\t epoch 3: True acc: 0.276 / Fidelity: 0.79\n",
            "\t epoch 4: True acc: 0.373 / Fidelity: 0.88\n",
            "\t epoch 5: True acc: 0.416 / Fidelity: 0.86\n",
            "\t epoch 6: True acc: 0.425 / Fidelity: 0.86\n",
            "\t epoch 7: True acc: 0.39 / Fidelity: 0.99\n",
            "\t epoch 8: True acc: 0.354 / Fidelity: 0.96\n",
            "\t epoch 9: True acc: 0.399 / Fidelity: 0.99\n",
            "\t epoch 10: True acc: 0.403 / Fidelity: 1.0\n",
            "\t epoch 11: True acc: 0.397 / Fidelity: 1.0\n",
            "\t epoch 12: True acc: 0.41 / Fidelity: 1.0\n",
            "\t epoch 13: True acc: 0.404 / Fidelity: 1.0\n",
            "\t epoch 14: True acc: 0.411 / Fidelity: 1.0\n",
            "\t epoch 15: True acc: 0.404 / Fidelity: 1.0\n",
            "\t epoch 16: True acc: 0.406 / Fidelity: 1.0\n",
            "\t epoch 17: True acc: 0.404 / Fidelity: 1.0\n",
            "\t epoch 18: True acc: 0.406 / Fidelity: 1.0\n",
            "\t epoch 19: True acc: 0.406 / Fidelity: 1.0\n",
            "\t epoch 20: True acc: 0.406 / Fidelity: 1.0\n",
            "\t epoch 21: True acc: 0.407 / Fidelity: 1.0\n",
            "\t epoch 22: True acc: 0.407 / Fidelity: 1.0\n",
            "\t epoch 23: True acc: 0.408 / Fidelity: 1.0\n",
            "\t epoch 24: True acc: 0.407 / Fidelity: 1.0\n",
            "\t epoch 25: True acc: 0.407 / Fidelity: 1.0\n",
            "\t epoch 26: True acc: 0.408 / Fidelity: 1.0\n",
            "\t epoch 27: True acc: 0.407 / Fidelity: 1.0\n",
            "\t epoch 28: True acc: 0.408 / Fidelity: 1.0\n",
            "\t epoch 29: True acc: 0.408 / Fidelity: 1.0\n",
            "\t epoch 30: True acc: 0.408 / Fidelity: 1.0\n",
            "\t epoch 31: True acc: 0.408 / Fidelity: 1.0\n",
            "\t epoch 32: True acc: 0.408 / Fidelity: 1.0\n",
            "\t epoch 33: True acc: 0.407 / Fidelity: 1.0\n",
            "\t epoch 34: True acc: 0.407 / Fidelity: 1.0\n",
            "\t epoch 35: True acc: 0.408 / Fidelity: 1.0\n",
            "\t epoch 36: True acc: 0.408 / Fidelity: 1.0\n",
            "\t epoch 37: True acc: 0.409 / Fidelity: 1.0\n",
            "\t epoch 38: True acc: 0.407 / Fidelity: 1.0\n",
            "\t epoch 39: True acc: 0.408 / Fidelity: 1.0\n",
            "\t epoch 40: True acc: 0.407 / Fidelity: 1.0\n",
            "\t epoch 41: True acc: 0.407 / Fidelity: 1.0\n",
            "\t epoch 42: True acc: 0.408 / Fidelity: 1.0\n",
            "\t epoch 43: True acc: 0.407 / Fidelity: 1.0\n",
            "\t epoch 44: True acc: 0.408 / Fidelity: 1.0\n",
            "Round 4:\n",
            "\t epoch 0: True acc: 0.063 / Fidelity: 0.05\n",
            "\t epoch 1: True acc: 0.114 / Fidelity: 0.45\n",
            "\t epoch 2: True acc: 0.194 / Fidelity: 0.6\n",
            "\t epoch 3: True acc: 0.289 / Fidelity: 0.65\n",
            "\t epoch 4: True acc: 0.355 / Fidelity: 0.87\n",
            "\t epoch 5: True acc: 0.387 / Fidelity: 0.89\n",
            "\t epoch 6: True acc: 0.397 / Fidelity: 0.88\n",
            "\t epoch 7: True acc: 0.349 / Fidelity: 0.92\n",
            "\t epoch 8: True acc: 0.393 / Fidelity: 0.95\n",
            "\t epoch 9: True acc: 0.414 / Fidelity: 0.99\n",
            "\t epoch 10: True acc: 0.399 / Fidelity: 0.99\n",
            "\t epoch 11: True acc: 0.404 / Fidelity: 1.0\n",
            "\t epoch 12: True acc: 0.426 / Fidelity: 1.0\n",
            "\t epoch 13: True acc: 0.39 / Fidelity: 1.0\n",
            "\t epoch 14: True acc: 0.395 / Fidelity: 1.0\n",
            "\t epoch 15: True acc: 0.405 / Fidelity: 1.0\n",
            "\t epoch 16: True acc: 0.402 / Fidelity: 1.0\n",
            "\t epoch 17: True acc: 0.404 / Fidelity: 1.0\n",
            "\t epoch 18: True acc: 0.404 / Fidelity: 1.0\n",
            "\t epoch 19: True acc: 0.406 / Fidelity: 1.0\n",
            "\t epoch 20: True acc: 0.407 / Fidelity: 1.0\n",
            "\t epoch 21: True acc: 0.405 / Fidelity: 1.0\n",
            "\t epoch 22: True acc: 0.408 / Fidelity: 1.0\n",
            "\t epoch 23: True acc: 0.406 / Fidelity: 1.0\n",
            "\t epoch 24: True acc: 0.407 / Fidelity: 1.0\n",
            "\t epoch 25: True acc: 0.406 / Fidelity: 1.0\n",
            "\t epoch 26: True acc: 0.407 / Fidelity: 1.0\n",
            "\t epoch 27: True acc: 0.407 / Fidelity: 1.0\n",
            "\t epoch 28: True acc: 0.407 / Fidelity: 1.0\n",
            "\t epoch 29: True acc: 0.407 / Fidelity: 1.0\n",
            "\t epoch 30: True acc: 0.406 / Fidelity: 1.0\n",
            "\t epoch 31: True acc: 0.408 / Fidelity: 1.0\n",
            "\t epoch 32: True acc: 0.407 / Fidelity: 1.0\n",
            "\t epoch 33: True acc: 0.407 / Fidelity: 1.0\n",
            "\t epoch 34: True acc: 0.406 / Fidelity: 1.0\n",
            "\t epoch 35: True acc: 0.407 / Fidelity: 1.0\n",
            "\t epoch 36: True acc: 0.407 / Fidelity: 1.0\n",
            "\t epoch 37: True acc: 0.408 / Fidelity: 1.0\n",
            "\t epoch 38: True acc: 0.407 / Fidelity: 1.0\n",
            "\t epoch 39: True acc: 0.407 / Fidelity: 1.0\n",
            "\t epoch 40: True acc: 0.408 / Fidelity: 1.0\n",
            "\t epoch 41: True acc: 0.407 / Fidelity: 1.0\n",
            "\t epoch 42: True acc: 0.407 / Fidelity: 1.0\n",
            "\t epoch 43: True acc: 0.408 / Fidelity: 1.0\n",
            "\t epoch 44: True acc: 0.407 / Fidelity: 1.0\n",
            "Round 5:\n",
            "\t epoch 0: True acc: 0.092 / Fidelity: 0.0\n",
            "\t epoch 1: True acc: 0.257 / Fidelity: 0.67\n",
            "\t epoch 2: True acc: 0.384 / Fidelity: 0.87\n",
            "\t epoch 3: True acc: 0.357 / Fidelity: 0.88\n",
            "\t epoch 4: True acc: 0.371 / Fidelity: 0.9\n",
            "\t epoch 5: True acc: 0.424 / Fidelity: 0.99\n",
            "\t epoch 6: True acc: 0.414 / Fidelity: 0.99\n",
            "\t epoch 7: True acc: 0.415 / Fidelity: 0.99\n",
            "\t epoch 8: True acc: 0.415 / Fidelity: 1.0\n",
            "\t epoch 9: True acc: 0.413 / Fidelity: 1.0\n",
            "\t epoch 10: True acc: 0.416 / Fidelity: 1.0\n",
            "\t epoch 11: True acc: 0.414 / Fidelity: 1.0\n",
            "\t epoch 12: True acc: 0.416 / Fidelity: 1.0\n",
            "\t epoch 13: True acc: 0.416 / Fidelity: 1.0\n",
            "\t epoch 14: True acc: 0.416 / Fidelity: 1.0\n",
            "\t epoch 15: True acc: 0.42 / Fidelity: 1.0\n",
            "\t epoch 16: True acc: 0.415 / Fidelity: 1.0\n",
            "\t epoch 17: True acc: 0.417 / Fidelity: 1.0\n",
            "\t epoch 18: True acc: 0.417 / Fidelity: 1.0\n",
            "\t epoch 19: True acc: 0.416 / Fidelity: 1.0\n",
            "\t epoch 20: True acc: 0.416 / Fidelity: 1.0\n",
            "\t epoch 21: True acc: 0.418 / Fidelity: 1.0\n",
            "\t epoch 22: True acc: 0.416 / Fidelity: 1.0\n",
            "\t epoch 23: True acc: 0.418 / Fidelity: 1.0\n",
            "\t epoch 24: True acc: 0.417 / Fidelity: 1.0\n",
            "\t epoch 25: True acc: 0.416 / Fidelity: 1.0\n",
            "\t epoch 26: True acc: 0.417 / Fidelity: 1.0\n",
            "\t epoch 27: True acc: 0.417 / Fidelity: 1.0\n",
            "\t epoch 28: True acc: 0.417 / Fidelity: 1.0\n",
            "\t epoch 29: True acc: 0.418 / Fidelity: 1.0\n",
            "\t epoch 30: True acc: 0.418 / Fidelity: 1.0\n",
            "\t epoch 31: True acc: 0.417 / Fidelity: 1.0\n",
            "\t epoch 32: True acc: 0.418 / Fidelity: 1.0\n",
            "\t epoch 33: True acc: 0.418 / Fidelity: 1.0\n",
            "\t epoch 34: True acc: 0.418 / Fidelity: 1.0\n",
            "\t epoch 35: True acc: 0.418 / Fidelity: 1.0\n",
            "\t epoch 36: True acc: 0.418 / Fidelity: 1.0\n",
            "\t epoch 37: True acc: 0.418 / Fidelity: 1.0\n",
            "\t epoch 38: True acc: 0.418 / Fidelity: 1.0\n",
            "\t epoch 39: True acc: 0.418 / Fidelity: 1.0\n",
            "\t epoch 40: True acc: 0.418 / Fidelity: 1.0\n",
            "\t epoch 41: True acc: 0.418 / Fidelity: 1.0\n",
            "\t epoch 42: True acc: 0.418 / Fidelity: 1.0\n",
            "\t epoch 43: True acc: 0.418 / Fidelity: 1.0\n",
            "\t epoch 44: True acc: 0.418 / Fidelity: 1.0\n"
          ]
        }
      ]
    },
    {
      "cell_type": "code",
      "execution_count": 12,
      "metadata": {
        "collapsed": true,
        "id": "lQs24iepYErm"
      },
      "outputs": [],
      "source": [
        "### TO DO ###\n",
        "### load the whole test and train dataset in one full batch\n",
        "\n",
        "complete_train = torch.utils.data.DataLoader(trainset, batch_size = len(trainset), shuffle=True)\n",
        "train_X, train_y = next(iter(complete_train))\n",
        "\n",
        "complete_test = torch.utils.data.DataLoader(testset, batch_size = len(testset), shuffle=True)\n",
        "test_X, test_y = next(iter(complete_test))\n",
        "#############"
      ]
    },
    {
      "cell_type": "code",
      "execution_count": 13,
      "metadata": {
        "collapsed": true,
        "id": "BgPy9iW2YErm",
        "colab": {
          "base_uri": "https://localhost:8080/"
        },
        "outputId": "9476f84e-a2b6-4209-88dd-2c46dd32ec4c"
      },
      "outputs": [
        {
          "output_type": "stream",
          "name": "stdout",
          "text": [
            "True train accuracy is 0.41, and true test accuracy is 0.42\n"
          ]
        }
      ],
      "source": [
        "### TO DO ###\n",
        "### compute accuracy of net on train and test\n",
        "def true_acc_calc(model, loader):\n",
        "    model.eval()\n",
        "\n",
        "    c = 0\n",
        "    t = 0\n",
        "    for x, y in loader:\n",
        "        x, y = x.to(device), y.to(device)\n",
        "        pred = model(x)\n",
        "        _, pred = pred.max(1)\n",
        "        num = (pred == y).sum().item()\n",
        "        c += num\n",
        "        t += pred.shape[0]\n",
        "\n",
        "    return c/t\n",
        "\n",
        "\n",
        "train_acc = true_acc_calc(net, complete_train)\n",
        "test_acc = true_acc_calc(net, complete_test)\n",
        "\n",
        "print(f'True train accuracy is {round(train_acc, 2)}, and true test accuracy is {round(test_acc, 2)}')\n",
        "#############"
      ]
    }
  ],
  "metadata": {
    "anaconda-cloud": {},
    "colab": {
      "provenance": [],
      "gpuType": "T4",
      "include_colab_link": true
    },
    "kernelspec": {
      "display_name": "Python 3",
      "name": "python3"
    },
    "language_info": {
      "codemirror_mode": {
        "name": "ipython",
        "version": 3
      },
      "file_extension": ".py",
      "mimetype": "text/x-python",
      "name": "python",
      "nbconvert_exporter": "python",
      "pygments_lexer": "ipython3",
      "version": "3.8.5"
    },
    "accelerator": "GPU"
  },
  "nbformat": 4,
  "nbformat_minor": 0
}