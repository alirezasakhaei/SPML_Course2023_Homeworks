{
  "cells": [
    {
      "cell_type": "markdown",
      "metadata": {
        "id": "view-in-github",
        "colab_type": "text"
      },
      "source": [
        "<a href=\"https://colab.research.google.com/github/alirezasakhaei/SPML_Course2023_Homeworks/blob/main/HW06/differentially_private_SGD.ipynb\" target=\"_parent\"><img src=\"https://colab.research.google.com/assets/colab-badge.svg\" alt=\"Open In Colab\"/></a>"
      ]
    },
    {
      "cell_type": "code",
      "execution_count": null,
      "metadata": {
        "id": "LJ0Ovjt7uQKs"
      },
      "outputs": [],
      "source": [
        "import torch\n",
        "import torchvision\n",
        "import torchvision.transforms as transforms\n",
        "from torchvision.models import resnet18\n",
        "import torch.nn as nn\n",
        "import torch.nn.functional as F\n",
        "from torch.nn.utils import clip_grad_norm_\n",
        "import matplotlib.pyplot as plt\n",
        "import numpy as np\n",
        "import torch.optim as optim\n",
        "from tqdm import tqdm"
      ]
    },
    {
      "cell_type": "markdown",
      "metadata": {
        "id": "b_nPVxmi-17l"
      },
      "source": [
        "## Initialization"
      ]
    },
    {
      "cell_type": "code",
      "execution_count": null,
      "metadata": {
        "colab": {
          "base_uri": "https://localhost:8080/"
        },
        "id": "G6aIilOlwHKs",
        "outputId": "ff7f87c0-8700-4af5-e8dc-accae8677069"
      },
      "outputs": [
        {
          "output_type": "stream",
          "name": "stdout",
          "text": [
            "Files already downloaded and verified\n",
            "Files already downloaded and verified\n"
          ]
        }
      ],
      "source": [
        "cifar_transform = transforms.Compose(\n",
        "    [transforms.ToTensor(),\n",
        "     transforms.Normalize((0.5, 0.5, 0.5), (0.5, 0.5, 0.5)),\n",
        "     transforms.CenterCrop(28)])\n",
        "\n",
        "mnist_transform = transforms.Compose([transforms.ToTensor(),\n",
        "                                      transforms.Normalize((0.1307,), (0.3081,))])\n",
        "\n",
        "L = 32 # group size\n",
        "\n",
        "cifar_trainset = torchvision.datasets.CIFAR10(root='./cifar', train=True,\n",
        "                                              download=True, transform=cifar_transform)\n",
        "cifar_testset = torchvision.datasets.CIFAR10(root='./cifar', train=False,\n",
        "                                             download=True, transform=cifar_transform)\n",
        "\n",
        "mnist_trainset = torchvision.datasets.MNIST(root='./mnist', train=True,\n",
        "                                            download=True, transform=mnist_transform)\n",
        "mnist_testset = torchvision.datasets.MNIST(root='./mnist', train=False,\n",
        "                                           download=True, transform=mnist_transform)\n",
        "\n",
        "#################################### To Do (2 pts) #############################\n",
        "# Define trainloader and testloader with given batch size.\n",
        "# Set shuffle parameter to True for trainloader and False for testloader.\n",
        "################################################################################\n",
        "mnist_trainloader = torch.utils.data.DataLoader(mnist_trainset, batch_size=L, shuffle=True)\n",
        "mnist_testloader = torch.utils.data.DataLoader(mnist_testset, batch_size=L, shuffle=False)\n",
        "\n",
        "cifar_trainloader = torch.utils.data.DataLoader(cifar_trainset, batch_size=L, shuffle=True)\n",
        "cifar_testloader = torch.utils.data.DataLoader(cifar_testset, batch_size=L, shuffle=False)\n",
        "\n",
        "##################################### End ######################################\n",
        "\n",
        "DEVICE = torch.device(torch.cuda.current_device()) if torch.cuda.is_available() else torch.device('cpu')"
      ]
    },
    {
      "cell_type": "code",
      "execution_count": null,
      "metadata": {
        "id": "L29X5NbvwTNZ"
      },
      "outputs": [],
      "source": [
        "class MNIST_Net(nn.Module):\n",
        "    def __init__(self):\n",
        "        super(MNIST_Net, self).__init__()\n",
        "        self.conv1 = nn.Conv2d(1, 32, 3, 1)\n",
        "        self.conv2 = nn.Conv2d(32, 64, 3, 1)\n",
        "        self.fc1 = nn.Linear(9216, 128)\n",
        "        self.fc2 = nn.Linear(128, 10)\n",
        "\n",
        "    def forward(self, x):\n",
        "        x = self.conv1(x)\n",
        "        x = F.relu(x)\n",
        "        x = self.conv2(x)\n",
        "        x = F.relu(x)\n",
        "        x = F.max_pool2d(x, 2)\n",
        "        x = torch.flatten(x, 1)\n",
        "        x = self.fc1(x)\n",
        "        x = F.relu(x)\n",
        "        x = self.fc2(x)\n",
        "        output = torch.softmax(x, dim=1)\n",
        "        return output"
      ]
    },
    {
      "cell_type": "code",
      "source": [
        "class CIFAR_Net(nn.Module):\n",
        "    def __init__(self):\n",
        "        super(MNIST_Net, self).__init__()\n",
        "        self.conv1 = nn.Conv2d(3, 32, 3, 1)\n",
        "        self.conv2 = nn.Conv2d(32, 64, 3, 1)\n",
        "        self.fc1 = nn.Linear(9216, 128)\n",
        "        self.fc2 = nn.Linear(128, 10)\n",
        "\n",
        "    def forward(self, x):\n",
        "        x = self.conv1(x)\n",
        "        x = F.relu(x)\n",
        "        x = self.conv2(x)\n",
        "        x = F.relu(x)\n",
        "        x = F.max_pool2d(x, 2)\n",
        "        x = torch.flatten(x, 1)\n",
        "        x = self.fc1(x)\n",
        "        x = F.relu(x)\n",
        "        x = self.fc2(x)\n",
        "        output = torch.softmax(x, dim=1)\n",
        "        return output"
      ],
      "metadata": {
        "id": "30d7ntM6gmjC"
      },
      "execution_count": null,
      "outputs": []
    },
    {
      "cell_type": "markdown",
      "metadata": {
        "id": "QN8bFXTe-9IJ"
      },
      "source": [
        "## differentially private SGD"
      ]
    },
    {
      "cell_type": "code",
      "execution_count": null,
      "metadata": {
        "id": "RyXDAyypx5JP"
      },
      "outputs": [],
      "source": [
        "criterion = nn.CrossEntropyLoss()\n",
        "lr=0.001"
      ]
    },
    {
      "cell_type": "code",
      "execution_count": null,
      "metadata": {
        "id": "TLBMCrp22G5c"
      },
      "outputs": [],
      "source": [
        "###################\n",
        "### Some extra functions\n",
        "\n",
        "def collect_grads(model):\n",
        "    grads = []\n",
        "    for param in model.parameters():\n",
        "        grad = param.grad\n",
        "        grads.append(grad)\n",
        "    return grads\n",
        "\n",
        "###################\n",
        "\n",
        "def DP_SGD(model, trainloader, criterion, lr, sigma, C):\n",
        "# \"\"\"\n",
        "# sigma: noise scale\n",
        "# C: gradient norm bound\n",
        "# \"\"\"\n",
        "# #################################### To Do (16 pts) ##########################\n",
        "    params = model.parameters()\n",
        "    opt = torch.optim.SGD(model.parameters(), lr=0.001)\n",
        "    for batch in tqdm(trainloader):\n",
        "        for param in params:\n",
        "            param.accumulated_grads = []\n",
        "\n",
        "    # 1. For each sample, compute gradients of loss w.r.t. parameters (5 pts)\n",
        "        data, labels = batch\n",
        "        batch_len = data.shape[0]\n",
        "        data, labels = data.to(DEVICE), labels.to(DEVICE)\n",
        "\n",
        "        for (x, y) in zip(data, labels):\n",
        "\n",
        "            output = model(x.unsqueeze(dim=0))\n",
        "            model.zero_grad()\n",
        "            loss = criterion(output, y.unsqueeze(dim=0))\n",
        "            loss.backward()\n",
        "\n",
        "            grads = collect_grads(model)\n",
        "\n",
        "    # 2. Clip each parameter's per-sample gradient (4 pts)\n",
        "            torch.nn.utils.clip_grad_norm_(grads, C)#clip_grads(grads, C)\n",
        "            # print(clipped_grads)\n",
        "            for (param, grad) in zip(params, grads):\n",
        "                param.accumulated_grads.append(grad)\n",
        "\n",
        "    # 3. Add noise and aggregate back accumulated grads with torch.stack (4 pts)\n",
        "        for param in params:\n",
        "            param.grad = torch.stack(param.accumulated_grads).mean(dim=0)\n",
        "            param.grad += (torch.randn(param.grad.shape)*sigma*C/batch_len).to(DEVICE)\n",
        "    # 4. Update model's weights and reset grad for the next iteration (3 pts)\n",
        "\n",
        "        opt.step()\n",
        "        model.zero_grad()\n",
        "  ##################################### End ####################################"
      ]
    },
    {
      "cell_type": "markdown",
      "metadata": {
        "id": "CXxbIypB7uSq"
      },
      "source": [
        "## Evaluation\n",
        "Now, we want to test this algorithm on CIFAR10 and MNIST datasets."
      ]
    },
    {
      "cell_type": "code",
      "source": [
        "def train(model, trainloader, testloader, epochs, C, sigma):\n",
        "    train_accs = []\n",
        "    test_accs = []\n",
        "    for epoch in range(epochs):\n",
        "        model.train()\n",
        "        criterion = torch.nn.CrossEntropyLoss()\n",
        "        DP_SGD(model, trainloader, criterion, lr, sigma, C)\n",
        "        acc_train, acc_test = calc_acc(model, trainloader, testloader)\n",
        "        train_accs.append(acc_train)\n",
        "        test_accs.append(acc_test)\n",
        "        print(f'Epoch: {epoch} | acc_train: {acc_train}, acc_test: {acc_test}')\n",
        "    return train_accs, test_accs\n",
        "\n",
        "def calc_acc(model, trainloader, testloader):\n",
        "    model.eval()\n",
        "    corrects = 0\n",
        "    total = 0\n",
        "    for (data, labels) in trainloader:\n",
        "        data, labels = data.to(DEVICE), labels.to(DEVICE)\n",
        "        _, preds = model(data).max(1)\n",
        "        corrects += torch.sum(preds == labels).item()\n",
        "        total += data.shape[0]\n",
        "    acc_train = round(corrects / total, 3)\n",
        "    for (data, labels) in testloader:\n",
        "        data, labels = data.to(DEVICE), labels.to(DEVICE)\n",
        "        _, preds = model(data).max(1)\n",
        "        corrects += torch.sum(preds == labels).item()\n",
        "        total += data.shape[0]\n",
        "    acc_test = round(corrects / total, 3)\n",
        "\n",
        "    return acc_train, acc_test"
      ],
      "metadata": {
        "id": "WuiT8q2IOtCU"
      },
      "execution_count": null,
      "outputs": []
    },
    {
      "cell_type": "markdown",
      "metadata": {
        "id": "GOBIxeUJ_OvB"
      },
      "source": [
        "### Effect of $\\sigma$ (and $\\epsilon$) (6 pts)\n",
        "Plot accuracy vs. epoch for various noise scale $\\sigma = 2, 4, 8$ for both datasets. Plot both training and testing accuracy.\n",
        "\n",
        "Change the code above if needed."
      ]
    },
    {
      "cell_type": "markdown",
      "source": [
        "#### MNIST"
      ],
      "metadata": {
        "id": "SVU8Z5rCasM8"
      }
    },
    {
      "cell_type": "code",
      "execution_count": null,
      "metadata": {
        "id": "xym63xkeyL6x",
        "colab": {
          "base_uri": "https://localhost:8080/"
        },
        "outputId": "1266c86b-a9e6-4632-fc2a-5c7b29dec3e2"
      },
      "outputs": [
        {
          "output_type": "stream",
          "name": "stdout",
          "text": [
            "------------------------------\n",
            "Sigma = 2\n"
          ]
        },
        {
          "output_type": "stream",
          "name": "stderr",
          "text": [
            "100%|██████████| 1875/1875 [01:37<00:00, 19.18it/s]\n"
          ]
        },
        {
          "output_type": "stream",
          "name": "stdout",
          "text": [
            "Epoch: 0 | acc_train: 0.449, acc_test: 0.449\n"
          ]
        },
        {
          "output_type": "stream",
          "name": "stderr",
          "text": [
            "100%|██████████| 1875/1875 [01:35<00:00, 19.53it/s]\n"
          ]
        },
        {
          "output_type": "stream",
          "name": "stdout",
          "text": [
            "Epoch: 1 | acc_train: 0.711, acc_test: 0.711\n"
          ]
        },
        {
          "output_type": "stream",
          "name": "stderr",
          "text": [
            "100%|██████████| 1875/1875 [01:37<00:00, 19.28it/s]\n"
          ]
        },
        {
          "output_type": "stream",
          "name": "stdout",
          "text": [
            "Epoch: 2 | acc_train: 0.81, acc_test: 0.811\n"
          ]
        },
        {
          "output_type": "stream",
          "name": "stderr",
          "text": [
            "100%|██████████| 1875/1875 [01:38<00:00, 19.00it/s]\n"
          ]
        },
        {
          "output_type": "stream",
          "name": "stdout",
          "text": [
            "Epoch: 3 | acc_train: 0.872, acc_test: 0.873\n"
          ]
        },
        {
          "output_type": "stream",
          "name": "stderr",
          "text": [
            "100%|██████████| 1875/1875 [01:38<00:00, 19.09it/s]\n"
          ]
        },
        {
          "output_type": "stream",
          "name": "stdout",
          "text": [
            "Epoch: 4 | acc_train: 0.872, acc_test: 0.873\n"
          ]
        },
        {
          "output_type": "stream",
          "name": "stderr",
          "text": [
            "100%|██████████| 1875/1875 [01:37<00:00, 19.16it/s]\n"
          ]
        },
        {
          "output_type": "stream",
          "name": "stdout",
          "text": [
            "Epoch: 5 | acc_train: 0.851, acc_test: 0.852\n"
          ]
        },
        {
          "output_type": "stream",
          "name": "stderr",
          "text": [
            "100%|██████████| 1875/1875 [01:39<00:00, 18.92it/s]\n"
          ]
        },
        {
          "output_type": "stream",
          "name": "stdout",
          "text": [
            "Epoch: 6 | acc_train: 0.863, acc_test: 0.864\n"
          ]
        },
        {
          "output_type": "stream",
          "name": "stderr",
          "text": [
            "100%|██████████| 1875/1875 [01:37<00:00, 19.18it/s]\n"
          ]
        },
        {
          "output_type": "stream",
          "name": "stdout",
          "text": [
            "Epoch: 7 | acc_train: 0.888, acc_test: 0.889\n",
            "------------------------------\n",
            "Sigma = 4\n"
          ]
        },
        {
          "output_type": "stream",
          "name": "stderr",
          "text": [
            "100%|██████████| 1875/1875 [01:38<00:00, 19.00it/s]\n"
          ]
        },
        {
          "output_type": "stream",
          "name": "stdout",
          "text": [
            "Epoch: 0 | acc_train: 0.548, acc_test: 0.549\n"
          ]
        },
        {
          "output_type": "stream",
          "name": "stderr",
          "text": [
            "100%|██████████| 1875/1875 [01:37<00:00, 19.17it/s]\n"
          ]
        },
        {
          "output_type": "stream",
          "name": "stdout",
          "text": [
            "Epoch: 1 | acc_train: 0.643, acc_test: 0.644\n"
          ]
        },
        {
          "output_type": "stream",
          "name": "stderr",
          "text": [
            "100%|██████████| 1875/1875 [01:37<00:00, 19.22it/s]\n"
          ]
        },
        {
          "output_type": "stream",
          "name": "stdout",
          "text": [
            "Epoch: 2 | acc_train: 0.762, acc_test: 0.762\n"
          ]
        },
        {
          "output_type": "stream",
          "name": "stderr",
          "text": [
            "100%|██████████| 1875/1875 [01:38<00:00, 19.06it/s]\n"
          ]
        },
        {
          "output_type": "stream",
          "name": "stdout",
          "text": [
            "Epoch: 3 | acc_train: 0.798, acc_test: 0.799\n"
          ]
        },
        {
          "output_type": "stream",
          "name": "stderr",
          "text": [
            "100%|██████████| 1875/1875 [01:37<00:00, 19.19it/s]\n"
          ]
        },
        {
          "output_type": "stream",
          "name": "stdout",
          "text": [
            "Epoch: 4 | acc_train: 0.814, acc_test: 0.815\n"
          ]
        },
        {
          "output_type": "stream",
          "name": "stderr",
          "text": [
            "100%|██████████| 1875/1875 [01:36<00:00, 19.46it/s]\n"
          ]
        },
        {
          "output_type": "stream",
          "name": "stdout",
          "text": [
            "Epoch: 5 | acc_train: 0.8, acc_test: 0.801\n"
          ]
        },
        {
          "output_type": "stream",
          "name": "stderr",
          "text": [
            "100%|██████████| 1875/1875 [01:36<00:00, 19.34it/s]\n"
          ]
        },
        {
          "output_type": "stream",
          "name": "stdout",
          "text": [
            "Epoch: 6 | acc_train: 0.821, acc_test: 0.823\n"
          ]
        },
        {
          "output_type": "stream",
          "name": "stderr",
          "text": [
            "100%|██████████| 1875/1875 [01:36<00:00, 19.37it/s]\n"
          ]
        },
        {
          "output_type": "stream",
          "name": "stdout",
          "text": [
            "Epoch: 7 | acc_train: 0.829, acc_test: 0.83\n",
            "------------------------------\n",
            "Sigma = 8\n"
          ]
        },
        {
          "output_type": "stream",
          "name": "stderr",
          "text": [
            "100%|██████████| 1875/1875 [01:36<00:00, 19.43it/s]\n"
          ]
        },
        {
          "output_type": "stream",
          "name": "stdout",
          "text": [
            "Epoch: 0 | acc_train: 0.124, acc_test: 0.124\n"
          ]
        },
        {
          "output_type": "stream",
          "name": "stderr",
          "text": [
            "100%|██████████| 1875/1875 [01:35<00:00, 19.55it/s]\n"
          ]
        },
        {
          "output_type": "stream",
          "name": "stdout",
          "text": [
            "Epoch: 1 | acc_train: 0.539, acc_test: 0.541\n"
          ]
        },
        {
          "output_type": "stream",
          "name": "stderr",
          "text": [
            "100%|██████████| 1875/1875 [01:36<00:00, 19.47it/s]\n"
          ]
        },
        {
          "output_type": "stream",
          "name": "stdout",
          "text": [
            "Epoch: 2 | acc_train: 0.803, acc_test: 0.804\n"
          ]
        },
        {
          "output_type": "stream",
          "name": "stderr",
          "text": [
            "100%|██████████| 1875/1875 [01:36<00:00, 19.35it/s]\n"
          ]
        },
        {
          "output_type": "stream",
          "name": "stdout",
          "text": [
            "Epoch: 3 | acc_train: 0.862, acc_test: 0.863\n"
          ]
        },
        {
          "output_type": "stream",
          "name": "stderr",
          "text": [
            "100%|██████████| 1875/1875 [01:36<00:00, 19.47it/s]\n"
          ]
        },
        {
          "output_type": "stream",
          "name": "stdout",
          "text": [
            "Epoch: 4 | acc_train: 0.885, acc_test: 0.886\n"
          ]
        },
        {
          "output_type": "stream",
          "name": "stderr",
          "text": [
            "100%|██████████| 1875/1875 [01:37<00:00, 19.28it/s]\n"
          ]
        },
        {
          "output_type": "stream",
          "name": "stdout",
          "text": [
            "Epoch: 5 | acc_train: 0.877, acc_test: 0.878\n"
          ]
        },
        {
          "output_type": "stream",
          "name": "stderr",
          "text": [
            "100%|██████████| 1875/1875 [01:51<00:00, 16.78it/s]\n"
          ]
        },
        {
          "output_type": "stream",
          "name": "stdout",
          "text": [
            "Epoch: 6 | acc_train: 0.88, acc_test: 0.881\n"
          ]
        },
        {
          "output_type": "stream",
          "name": "stderr",
          "text": [
            "100%|██████████| 1875/1875 [02:03<00:00, 15.21it/s]\n"
          ]
        },
        {
          "output_type": "stream",
          "name": "stdout",
          "text": [
            "Epoch: 7 | acc_train: 0.877, acc_test: 0.878\n"
          ]
        }
      ],
      "source": [
        "SIGMAS = [2, 4, 8]\n",
        "C = 4\n",
        "train_accs = []\n",
        "test_accs = []\n",
        "epochs = 8\n",
        "\n",
        "for i, sigma in enumerate(SIGMAS):\n",
        "    print('-'*30)\n",
        "    print(f'Sigma = {sigma}')\n",
        "    model = MNIST_Net().to(DEVICE)\n",
        "    train_acc, test_acc = train(model, mnist_trainloader, mnist_testloader, epochs, C, sigma)\n",
        "    train_accs.append(train_acc)\n",
        "    test_accs.append(test_acc)"
      ]
    },
    {
      "cell_type": "code",
      "source": [
        "plt.subplot(1, 2, 1)\n",
        "plt.title('MNIST Train Accs')\n",
        "plt.plot(train_accs[0], label='Sigma=2')\n",
        "plt.plot(train_accs[1], label='Sigma=4')\n",
        "plt.plot(train_accs[2], label='Sigma=8')\n",
        "plt.grid(True)\n",
        "plt.legend()\n",
        "\n",
        "plt.subplot(1, 2, 2)\n",
        "plt.title('MNIST Test Accs')\n",
        "plt.plot(test_accs[0], label='Sigma=2')\n",
        "plt.plot(test_accs[1], label='Sigma=4')\n",
        "plt.plot(test_accs[2], label='Sigma=8')\n",
        "plt.grid(True)\n",
        "plt.legend()"
      ],
      "metadata": {
        "colab": {
          "base_uri": "https://localhost:8080/",
          "height": 470
        },
        "id": "ixVKyziHjcjP",
        "outputId": "602c7605-3411-41d1-cd9f-9a7e8e4b083b"
      },
      "execution_count": null,
      "outputs": [
        {
          "output_type": "execute_result",
          "data": {
            "text/plain": [
              "<matplotlib.legend.Legend at 0x7fe919f76e60>"
            ]
          },
          "metadata": {},
          "execution_count": 34
        },
        {
          "output_type": "display_data",
          "data": {
            "text/plain": [
              "<Figure size 640x480 with 2 Axes>"
            ],
            "image/png": "[encoded data removed]"
          },
          "metadata": {}
        }
      ]
    },
    {
      "cell_type": "markdown",
      "source": [
        "#### CIFAR"
      ],
      "metadata": {
        "id": "ddQcLc52waBK"
      }
    },
    {
      "cell_type": "code",
      "source": [
        "SIGMAS = [2, 4, 8]\n",
        "C = 4\n",
        "train_accs = []\n",
        "test_accs = []\n",
        "epochs = 8\n",
        "\n",
        "for i, sigma in enumerate(SIGMAS):\n",
        "    print('-'*30)\n",
        "    print(f'Sigma = {sigma}')\n",
        "    model = CIFAR_Net().to(DEVICE)\n",
        "    train_acc, test_acc = train(model, cifar_trainloader, cifar_testloader, epochs, C, sigma)\n",
        "    train_accs.append(train_acc)\n",
        "    test_accs.append(test_acc)"
      ],
      "metadata": {
        "id": "GLklG2gswdC8"
      },
      "execution_count": null,
      "outputs": []
    },
    {
      "cell_type": "code",
      "source": [
        "SIGMAS = [2, 4, 8]\n",
        "C = 4\n",
        "train_accs = []\n",
        "test_accs = []\n",
        "epochs = 8\n",
        "\n",
        "for i, sigma in enumerate(SIGMAS):\n",
        "    print('-'*30)\n",
        "    print(f'Sigma = {sigma}')\n",
        "    model = MNIST_Net().to(DEVICE)\n",
        "    train_acc, test_acc = train(model, mnist_trainloader, mnist_testloader, epochs, C, sigma)\n",
        "    train_accs.append(train_acc)\n",
        "    test_accs.append(test_acc)"
      ],
      "metadata": {
        "id": "euwHEMv0whYm"
      },
      "execution_count": null,
      "outputs": []
    },
    {
      "cell_type": "markdown",
      "metadata": {
        "id": "UFcZvui8_tql"
      },
      "source": [
        "### Effect of $\\epsilon, \\delta$ (6 pts)\n",
        "Plot accuracy vs. $\\epsilon$ (according to formulas in the lectures) in range $(10^{-1}, 10)$ for $\\delta=10^{-i}, i\\in\\{2, 3, 4, 5\\}$ for both datasets."
      ]
    },
    {
      "cell_type": "markdown",
      "source": [
        "#### MNIST"
      ],
      "metadata": {
        "id": "J_I8LXuoggho"
      }
    },
    {
      "cell_type": "code",
      "execution_count": null,
      "metadata": {
        "id": "zLcxWmk5ATqy"
      },
      "outputs": [],
      "source": [
        "def calc_sigma(eps, delta):\n",
        "    temp = np.sqrt(2 * np.log(1.25 / delta))\n",
        "    sigma = temp / eps\n",
        "    return sigma\n",
        "\n",
        "DELTAS = [10**(-i) for i in range(2, 6)]\n",
        "EPS = [0.1, 1, 5, 10]\n",
        "EPOCHS = 5\n",
        "C = 4\n",
        "\n",
        "ACC_train = []\n",
        "ACC_test = []\n",
        "for i, delta in enumerate(DELTAS):\n",
        "    print('-'*30)\n",
        "    print('-'*30)\n",
        "    print(f'Delta = {delta}')\n",
        "    ACC_train.append([])\n",
        "    ACC_test.append([])\n",
        "    for j, eps in enumerate(EPS):\n",
        "        print('-'*30)\n",
        "        print(f'Detla = {delta}, Epsilon = {eps}')\n",
        "        sigma = calc_sigma(eps, delta)\n",
        "        model = MNIST_Net()\n",
        "        train_acc, test_acc = train(model, mnist_trainloader, mnist_testloader, epochs, C, sigma)\n",
        "\n",
        "        ACC_train[i].append(train_acc)\n",
        "        ACC_test[i].append(test_acc)"
      ]
    },
    {
      "cell_type": "code",
      "source": [
        "for i, delta in enumerate(DELTAS):\n",
        "    accs_tr = ACC_train[i]\n",
        "    accs_ts = ACC_test[i]\n",
        "    tr = []\n",
        "    for arr in accs_tr:\n",
        "        tr.append(max(arr))\n",
        "    ts = []\n",
        "    for arr in accs_ts:\n",
        "        ts.append(max(arr))\n",
        "\n",
        "    plt.subplot(1, 2, 1)\n",
        "    plt.title(f'MNIST train | Delta = {delta}')\n",
        "    plt.plot(EPS, tr)\n",
        "    plt.grid(True)\n",
        "\n",
        "    plt.subplot(1, 2, 1)\n",
        "    plt.title(f'MNIST test | Delta = {delta}')\n",
        "    plt.plot(EPS, ts)\n",
        "    plt.grid(True)\n",
        "\n",
        "    plt.show()\n",
        "    print('-'*30)"
      ],
      "metadata": {
        "id": "NEvAro7Avhuv"
      },
      "execution_count": null,
      "outputs": []
    },
    {
      "cell_type": "markdown",
      "source": [
        "#### CIFAR"
      ],
      "metadata": {
        "id": "QWT4x3KevkMV"
      }
    },
    {
      "cell_type": "code",
      "source": [
        "def calc_sigma(eps, delta):\n",
        "    temp = np.sqrt(2 * np.log(1.25 / delta))\n",
        "    sigma = temp / eps\n",
        "    return sigma\n",
        "\n",
        "DELTAS = [10**(-i) for i in range(2, 6)]\n",
        "EPS = [0.1, 1, 5, 10]\n",
        "EPOCHS = 5\n",
        "C = 4\n",
        "\n",
        "ACC_train = []\n",
        "ACC_test = []\n",
        "for i, delta in enumerate(DELTAS):\n",
        "    print('-'*30)\n",
        "    print('-'*30)\n",
        "    print(f'Delta = {delta}')\n",
        "    ACC_train.append([])\n",
        "    ACC_test.append([])\n",
        "    for j, eps in enumerate(EPS):\n",
        "        print('-'*30)\n",
        "        print(f'Detla = {delta}, Epsilon = {eps}')\n",
        "        sigma = calc_sigma(eps, delta)\n",
        "        model = CIFAR_Net()\n",
        "        train_acc, test_acc = train(model, cifar_trainloader, cifar_testloader, epochs, C, sigma)\n",
        "\n",
        "        ACC_train[i].append(train_acc)\n",
        "        ACC_test[i].append(test_acc)"
      ],
      "metadata": {
        "id": "XGT6hTHfvlbk"
      },
      "execution_count": null,
      "outputs": []
    },
    {
      "cell_type": "code",
      "source": [
        "for i, delta in enumerate(DELTAS):\n",
        "    accs_tr = ACC_train[i]\n",
        "    accs_ts = ACC_test[i]\n",
        "    tr = []\n",
        "    for arr in accs_tr:\n",
        "        tr.append(max(arr))\n",
        "    ts = []\n",
        "    for arr in accs_ts:\n",
        "        ts.append(max(arr))\n",
        "\n",
        "    plt.subplot(1, 2, 1)\n",
        "    plt.title(f'CIFAR train | Delta = {delta}')\n",
        "    plt.plot(EPS, tr)\n",
        "    plt.grid(True)\n",
        "\n",
        "    plt.subplot(1, 2, 1)\n",
        "    plt.title(f'CIFAR test | Delta = {delta}')\n",
        "    plt.plot(EPS, ts)\n",
        "    plt.grid(True)\n",
        "\n",
        "    plt.show()\n",
        "    print('-'*30)"
      ],
      "metadata": {
        "id": "JjfYJfEWwVpV"
      },
      "execution_count": null,
      "outputs": []
    },
    {
      "cell_type": "markdown",
      "metadata": {
        "id": "4pVu6HhXBsoT"
      },
      "source": [
        "### Effect of clipping bound (3 pts)\n",
        "Plot train and test accuracy vs. $C=1, 2, ..., 10$ for both datasets."
      ]
    },
    {
      "cell_type": "markdown",
      "source": [
        "#### MNIST"
      ],
      "metadata": {
        "id": "cdb0OjuNtyB-"
      }
    },
    {
      "cell_type": "code",
      "execution_count": null,
      "metadata": {
        "colab": {
          "base_uri": "https://localhost:8080/"
        },
        "outputId": "70d51538-908a-41c3-dcb6-e3da1aeae84e",
        "id": "e8jeNiJ9IRVz"
      },
      "outputs": [
        {
          "output_type": "stream",
          "name": "stdout",
          "text": [
            "------------------------------\n",
            "C = 1\n"
          ]
        },
        {
          "output_type": "stream",
          "name": "stderr",
          "text": [
            "100%|██████████| 1875/1875 [01:41<00:00, 18.52it/s]\n"
          ]
        },
        {
          "output_type": "stream",
          "name": "stdout",
          "text": [
            "Epoch: 0 | acc_train: 0.443, acc_test: 0.444\n"
          ]
        },
        {
          "output_type": "stream",
          "name": "stderr",
          "text": [
            "100%|██████████| 1875/1875 [01:42<00:00, 18.35it/s]\n"
          ]
        },
        {
          "output_type": "stream",
          "name": "stdout",
          "text": [
            "Epoch: 1 | acc_train: 0.696, acc_test: 0.698\n"
          ]
        },
        {
          "output_type": "stream",
          "name": "stderr",
          "text": [
            "100%|██████████| 1875/1875 [01:41<00:00, 18.54it/s]\n"
          ]
        },
        {
          "output_type": "stream",
          "name": "stdout",
          "text": [
            "Epoch: 2 | acc_train: 0.857, acc_test: 0.858\n"
          ]
        },
        {
          "output_type": "stream",
          "name": "stderr",
          "text": [
            "100%|██████████| 1875/1875 [01:43<00:00, 18.15it/s]\n"
          ]
        },
        {
          "output_type": "stream",
          "name": "stdout",
          "text": [
            "Epoch: 3 | acc_train: 0.869, acc_test: 0.87\n"
          ]
        },
        {
          "output_type": "stream",
          "name": "stderr",
          "text": [
            "100%|██████████| 1875/1875 [01:42<00:00, 18.31it/s]\n"
          ]
        },
        {
          "output_type": "stream",
          "name": "stdout",
          "text": [
            "Epoch: 4 | acc_train: 0.877, acc_test: 0.878\n",
            "------------------------------\n",
            "C = 2\n"
          ]
        },
        {
          "output_type": "stream",
          "name": "stderr",
          "text": [
            "100%|██████████| 1875/1875 [01:43<00:00, 18.20it/s]\n"
          ]
        },
        {
          "output_type": "stream",
          "name": "stdout",
          "text": [
            "Epoch: 0 | acc_train: 0.368, acc_test: 0.369\n"
          ]
        },
        {
          "output_type": "stream",
          "name": "stderr",
          "text": [
            "100%|██████████| 1875/1875 [01:43<00:00, 18.19it/s]\n"
          ]
        },
        {
          "output_type": "stream",
          "name": "stdout",
          "text": [
            "Epoch: 1 | acc_train: 0.704, acc_test: 0.706\n"
          ]
        },
        {
          "output_type": "stream",
          "name": "stderr",
          "text": [
            "100%|██████████| 1875/1875 [01:42<00:00, 18.30it/s]\n"
          ]
        },
        {
          "output_type": "stream",
          "name": "stdout",
          "text": [
            "Epoch: 2 | acc_train: 0.777, acc_test: 0.777\n"
          ]
        },
        {
          "output_type": "stream",
          "name": "stderr",
          "text": [
            "100%|██████████| 1875/1875 [01:42<00:00, 18.21it/s]\n"
          ]
        },
        {
          "output_type": "stream",
          "name": "stdout",
          "text": [
            "Epoch: 3 | acc_train: 0.811, acc_test: 0.812\n"
          ]
        },
        {
          "output_type": "stream",
          "name": "stderr",
          "text": [
            "100%|██████████| 1875/1875 [01:42<00:00, 18.38it/s]\n"
          ]
        },
        {
          "output_type": "stream",
          "name": "stdout",
          "text": [
            "Epoch: 4 | acc_train: 0.787, acc_test: 0.787\n",
            "------------------------------\n",
            "C = 3\n"
          ]
        },
        {
          "output_type": "stream",
          "name": "stderr",
          "text": [
            "100%|██████████| 1875/1875 [01:42<00:00, 18.30it/s]\n"
          ]
        },
        {
          "output_type": "stream",
          "name": "stdout",
          "text": [
            "Epoch: 0 | acc_train: 0.394, acc_test: 0.395\n"
          ]
        },
        {
          "output_type": "stream",
          "name": "stderr",
          "text": [
            "100%|██████████| 1875/1875 [01:42<00:00, 18.23it/s]\n"
          ]
        },
        {
          "output_type": "stream",
          "name": "stdout",
          "text": [
            "Epoch: 1 | acc_train: 0.643, acc_test: 0.644\n"
          ]
        },
        {
          "output_type": "stream",
          "name": "stderr",
          "text": [
            "100%|██████████| 1875/1875 [01:42<00:00, 18.29it/s]\n"
          ]
        },
        {
          "output_type": "stream",
          "name": "stdout",
          "text": [
            "Epoch: 2 | acc_train: 0.837, acc_test: 0.838\n"
          ]
        },
        {
          "output_type": "stream",
          "name": "stderr",
          "text": [
            "100%|██████████| 1875/1875 [01:42<00:00, 18.34it/s]\n"
          ]
        },
        {
          "output_type": "stream",
          "name": "stdout",
          "text": [
            "Epoch: 3 | acc_train: 0.851, acc_test: 0.852\n"
          ]
        },
        {
          "output_type": "stream",
          "name": "stderr",
          "text": [
            "100%|██████████| 1875/1875 [01:42<00:00, 18.35it/s]\n"
          ]
        },
        {
          "output_type": "stream",
          "name": "stdout",
          "text": [
            "Epoch: 4 | acc_train: 0.857, acc_test: 0.858\n",
            "------------------------------\n",
            "C = 4\n"
          ]
        },
        {
          "output_type": "stream",
          "name": "stderr",
          "text": [
            "100%|██████████| 1875/1875 [01:42<00:00, 18.30it/s]\n"
          ]
        },
        {
          "output_type": "stream",
          "name": "stdout",
          "text": [
            "Epoch: 0 | acc_train: 0.479, acc_test: 0.481\n"
          ]
        },
        {
          "output_type": "stream",
          "name": "stderr",
          "text": [
            "100%|██████████| 1875/1875 [01:43<00:00, 18.19it/s]\n"
          ]
        },
        {
          "output_type": "stream",
          "name": "stdout",
          "text": [
            "Epoch: 1 | acc_train: 0.713, acc_test: 0.714\n"
          ]
        },
        {
          "output_type": "stream",
          "name": "stderr",
          "text": [
            "100%|██████████| 1875/1875 [01:43<00:00, 18.08it/s]\n"
          ]
        },
        {
          "output_type": "stream",
          "name": "stdout",
          "text": [
            "Epoch: 2 | acc_train: 0.805, acc_test: 0.806\n"
          ]
        },
        {
          "output_type": "stream",
          "name": "stderr",
          "text": [
            "100%|██████████| 1875/1875 [01:44<00:00, 17.99it/s]\n"
          ]
        },
        {
          "output_type": "stream",
          "name": "stdout",
          "text": [
            "Epoch: 3 | acc_train: 0.869, acc_test: 0.871\n"
          ]
        },
        {
          "output_type": "stream",
          "name": "stderr",
          "text": [
            "100%|██████████| 1875/1875 [01:43<00:00, 18.11it/s]\n"
          ]
        },
        {
          "output_type": "stream",
          "name": "stdout",
          "text": [
            "Epoch: 4 | acc_train: 0.882, acc_test: 0.883\n",
            "------------------------------\n",
            "C = 5\n"
          ]
        },
        {
          "output_type": "stream",
          "name": "stderr",
          "text": [
            "100%|██████████| 1875/1875 [01:44<00:00, 18.00it/s]\n"
          ]
        },
        {
          "output_type": "stream",
          "name": "stdout",
          "text": [
            "Epoch: 0 | acc_train: 0.208, acc_test: 0.208\n"
          ]
        },
        {
          "output_type": "stream",
          "name": "stderr",
          "text": [
            "100%|██████████| 1875/1875 [01:44<00:00, 18.02it/s]\n"
          ]
        },
        {
          "output_type": "stream",
          "name": "stdout",
          "text": [
            "Epoch: 1 | acc_train: 0.671, acc_test: 0.672\n"
          ]
        },
        {
          "output_type": "stream",
          "name": "stderr",
          "text": [
            "100%|██████████| 1875/1875 [01:43<00:00, 18.12it/s]\n"
          ]
        },
        {
          "output_type": "stream",
          "name": "stdout",
          "text": [
            "Epoch: 2 | acc_train: 0.788, acc_test: 0.789\n"
          ]
        },
        {
          "output_type": "stream",
          "name": "stderr",
          "text": [
            "100%|██████████| 1875/1875 [01:43<00:00, 18.06it/s]\n"
          ]
        },
        {
          "output_type": "stream",
          "name": "stdout",
          "text": [
            "Epoch: 3 | acc_train: 0.815, acc_test: 0.816\n"
          ]
        },
        {
          "output_type": "stream",
          "name": "stderr",
          "text": [
            "100%|██████████| 1875/1875 [01:43<00:00, 18.14it/s]\n"
          ]
        },
        {
          "output_type": "stream",
          "name": "stdout",
          "text": [
            "Epoch: 4 | acc_train: 0.813, acc_test: 0.815\n",
            "------------------------------\n",
            "C = 6\n"
          ]
        },
        {
          "output_type": "stream",
          "name": "stderr",
          "text": [
            "100%|██████████| 1875/1875 [01:43<00:00, 18.03it/s]\n"
          ]
        },
        {
          "output_type": "stream",
          "name": "stdout",
          "text": [
            "Epoch: 0 | acc_train: 0.466, acc_test: 0.468\n"
          ]
        },
        {
          "output_type": "stream",
          "name": "stderr",
          "text": [
            "100%|██████████| 1875/1875 [01:43<00:00, 18.13it/s]\n"
          ]
        },
        {
          "output_type": "stream",
          "name": "stdout",
          "text": [
            "Epoch: 1 | acc_train: 0.732, acc_test: 0.733\n"
          ]
        },
        {
          "output_type": "stream",
          "name": "stderr",
          "text": [
            "100%|██████████| 1875/1875 [01:43<00:00, 18.11it/s]\n"
          ]
        },
        {
          "output_type": "stream",
          "name": "stdout",
          "text": [
            "Epoch: 2 | acc_train: 0.801, acc_test: 0.802\n"
          ]
        },
        {
          "output_type": "stream",
          "name": "stderr",
          "text": [
            "100%|██████████| 1875/1875 [01:45<00:00, 17.86it/s]\n"
          ]
        },
        {
          "output_type": "stream",
          "name": "stdout",
          "text": [
            "Epoch: 3 | acc_train: 0.825, acc_test: 0.825\n"
          ]
        },
        {
          "output_type": "stream",
          "name": "stderr",
          "text": [
            "100%|██████████| 1875/1875 [01:43<00:00, 18.06it/s]\n"
          ]
        },
        {
          "output_type": "stream",
          "name": "stdout",
          "text": [
            "Epoch: 4 | acc_train: 0.827, acc_test: 0.828\n",
            "------------------------------\n",
            "C = 7\n"
          ]
        },
        {
          "output_type": "stream",
          "name": "stderr",
          "text": [
            "100%|██████████| 1875/1875 [01:44<00:00, 17.93it/s]\n"
          ]
        },
        {
          "output_type": "stream",
          "name": "stdout",
          "text": [
            "Epoch: 0 | acc_train: 0.35, acc_test: 0.349\n"
          ]
        },
        {
          "output_type": "stream",
          "name": "stderr",
          "text": [
            "100%|██████████| 1875/1875 [01:44<00:00, 17.98it/s]\n"
          ]
        },
        {
          "output_type": "stream",
          "name": "stdout",
          "text": [
            "Epoch: 1 | acc_train: 0.542, acc_test: 0.543\n"
          ]
        },
        {
          "output_type": "stream",
          "name": "stderr",
          "text": [
            "100%|██████████| 1875/1875 [01:45<00:00, 17.74it/s]\n"
          ]
        },
        {
          "output_type": "stream",
          "name": "stdout",
          "text": [
            "Epoch: 2 | acc_train: 0.689, acc_test: 0.69\n"
          ]
        },
        {
          "output_type": "stream",
          "name": "stderr",
          "text": [
            "100%|██████████| 1875/1875 [01:44<00:00, 17.91it/s]\n"
          ]
        },
        {
          "output_type": "stream",
          "name": "stdout",
          "text": [
            "Epoch: 3 | acc_train: 0.763, acc_test: 0.763\n"
          ]
        },
        {
          "output_type": "stream",
          "name": "stderr",
          "text": [
            "100%|██████████| 1875/1875 [01:43<00:00, 18.14it/s]\n"
          ]
        },
        {
          "output_type": "stream",
          "name": "stdout",
          "text": [
            "Epoch: 4 | acc_train: 0.797, acc_test: 0.797\n",
            "------------------------------\n",
            "C = 8\n"
          ]
        },
        {
          "output_type": "stream",
          "name": "stderr",
          "text": [
            "100%|██████████| 1875/1875 [01:45<00:00, 17.84it/s]\n"
          ]
        },
        {
          "output_type": "stream",
          "name": "stdout",
          "text": [
            "Epoch: 0 | acc_train: 0.435, acc_test: 0.434\n"
          ]
        },
        {
          "output_type": "stream",
          "name": "stderr",
          "text": [
            "100%|██████████| 1875/1875 [01:44<00:00, 17.96it/s]\n"
          ]
        },
        {
          "output_type": "stream",
          "name": "stdout",
          "text": [
            "Epoch: 1 | acc_train: 0.699, acc_test: 0.7\n"
          ]
        },
        {
          "output_type": "stream",
          "name": "stderr",
          "text": [
            "100%|██████████| 1875/1875 [01:45<00:00, 17.79it/s]\n"
          ]
        },
        {
          "output_type": "stream",
          "name": "stdout",
          "text": [
            "Epoch: 2 | acc_train: 0.843, acc_test: 0.844\n"
          ]
        },
        {
          "output_type": "stream",
          "name": "stderr",
          "text": [
            "100%|██████████| 1875/1875 [01:44<00:00, 17.98it/s]\n"
          ]
        },
        {
          "output_type": "stream",
          "name": "stdout",
          "text": [
            "Epoch: 3 | acc_train: 0.867, acc_test: 0.868\n"
          ]
        },
        {
          "output_type": "stream",
          "name": "stderr",
          "text": [
            "100%|██████████| 1875/1875 [01:44<00:00, 18.02it/s]\n"
          ]
        },
        {
          "output_type": "stream",
          "name": "stdout",
          "text": [
            "Epoch: 4 | acc_train: 0.867, acc_test: 0.868\n",
            "------------------------------\n",
            "C = 9\n"
          ]
        },
        {
          "output_type": "stream",
          "name": "stderr",
          "text": [
            "100%|██████████| 1875/1875 [01:44<00:00, 17.96it/s]\n"
          ]
        },
        {
          "output_type": "stream",
          "name": "stdout",
          "text": [
            "Epoch: 0 | acc_train: 0.48, acc_test: 0.481\n"
          ]
        },
        {
          "output_type": "stream",
          "name": "stderr",
          "text": [
            "100%|██████████| 1875/1875 [01:43<00:00, 18.12it/s]\n"
          ]
        },
        {
          "output_type": "stream",
          "name": "stdout",
          "text": [
            "Epoch: 1 | acc_train: 0.719, acc_test: 0.72\n"
          ]
        },
        {
          "output_type": "stream",
          "name": "stderr",
          "text": [
            "100%|██████████| 1875/1875 [01:43<00:00, 18.18it/s]\n"
          ]
        },
        {
          "output_type": "stream",
          "name": "stdout",
          "text": [
            "Epoch: 2 | acc_train: 0.801, acc_test: 0.802\n"
          ]
        },
        {
          "output_type": "stream",
          "name": "stderr",
          "text": [
            "100%|██████████| 1875/1875 [01:43<00:00, 18.16it/s]\n"
          ]
        },
        {
          "output_type": "stream",
          "name": "stdout",
          "text": [
            "Epoch: 3 | acc_train: 0.812, acc_test: 0.813\n"
          ]
        },
        {
          "output_type": "stream",
          "name": "stderr",
          "text": [
            "100%|██████████| 1875/1875 [01:44<00:00, 17.91it/s]\n"
          ]
        },
        {
          "output_type": "stream",
          "name": "stdout",
          "text": [
            "Epoch: 4 | acc_train: 0.809, acc_test: 0.809\n",
            "------------------------------\n",
            "C = 10\n"
          ]
        },
        {
          "output_type": "stream",
          "name": "stderr",
          "text": [
            "100%|██████████| 1875/1875 [01:44<00:00, 18.00it/s]\n"
          ]
        },
        {
          "output_type": "stream",
          "name": "stdout",
          "text": [
            "Epoch: 0 | acc_train: 0.461, acc_test: 0.461\n"
          ]
        },
        {
          "output_type": "stream",
          "name": "stderr",
          "text": [
            "100%|██████████| 1875/1875 [01:42<00:00, 18.21it/s]\n"
          ]
        },
        {
          "output_type": "stream",
          "name": "stdout",
          "text": [
            "Epoch: 1 | acc_train: 0.652, acc_test: 0.653\n"
          ]
        },
        {
          "output_type": "stream",
          "name": "stderr",
          "text": [
            "100%|██████████| 1875/1875 [01:44<00:00, 18.00it/s]\n"
          ]
        },
        {
          "output_type": "stream",
          "name": "stdout",
          "text": [
            "Epoch: 2 | acc_train: 0.661, acc_test: 0.662\n"
          ]
        },
        {
          "output_type": "stream",
          "name": "stderr",
          "text": [
            "100%|██████████| 1875/1875 [01:44<00:00, 17.87it/s]\n"
          ]
        },
        {
          "output_type": "stream",
          "name": "stdout",
          "text": [
            "Epoch: 3 | acc_train: 0.667, acc_test: 0.668\n"
          ]
        },
        {
          "output_type": "stream",
          "name": "stderr",
          "text": [
            "100%|██████████| 1875/1875 [01:45<00:00, 17.73it/s]\n"
          ]
        },
        {
          "output_type": "stream",
          "name": "stdout",
          "text": [
            "Epoch: 4 | acc_train: 0.673, acc_test: 0.673\n"
          ]
        }
      ],
      "source": [
        "Cs = range(1, 11)\n",
        "sigma = 2\n",
        "epochs = 5\n",
        "\n",
        "train_accs = []\n",
        "test_accs = []\n",
        "\n",
        "for i, C in enumerate(Cs):\n",
        "    print('-'*30)\n",
        "    print(f'C = {C}')\n",
        "    model = MNIST_Net().to(DEVICE)\n",
        "    train_acc, test_acc = train(model, mnist_trainloader, mnist_testloader, epochs, C, sigma)\n",
        "    train_accs.append(train_acc)\n",
        "    test_accs.append(test_acc)"
      ]
    },
    {
      "cell_type": "code",
      "source": [
        "BEST_ACCS_TRAIN = []\n",
        "BEST_ACCS_TEST = []\n",
        "for i in range(10):\n",
        "    BEST_ACCS_TRAIN.append(max(train_accs[i]))\n",
        "    BEST_ACCS_TEST.append(max(test_accs[i]))\n",
        "\n",
        "plt.subplot(1, 2, 1)\n",
        "plt.plot(list(Cs), BEST_ACCS_TRAIN)\n",
        "plt.title('MNIST Train Accs')\n",
        "plt.xlabel('C')\n",
        "plt.ylabel('Top Accuracy')\n",
        "plt.grid(True)\n",
        "\n",
        "plt.subplot(1, 2, 2)\n",
        "plt.plot(list(Cs), BEST_ACCS_TEST)\n",
        "plt.title('MNIST Test Accs')\n",
        "plt.xlabel('C')\n",
        "plt.ylabel('Top Accuracy')\n",
        "plt.grid(True)\n"
      ],
      "metadata": {
        "colab": {
          "base_uri": "https://localhost:8080/",
          "height": 472
        },
        "id": "gTReP4Rcuvy1",
        "outputId": "08beaad2-6131-4c66-f520-1effa061925f"
      },
      "execution_count": null,
      "outputs": [
        {
          "output_type": "display_data",
          "data": {
            "text/plain": [
              "<Figure size 640x480 with 2 Axes>"
            ],
            "image/png": "[encoded data removed]"
          },
          "metadata": {}
        }
      ]
    },
    {
      "cell_type": "markdown",
      "source": [
        "#### CIFAR"
      ],
      "metadata": {
        "id": "gM_AGtSFwly8"
      }
    },
    {
      "cell_type": "code",
      "source": [
        "Cs = range(1, 11)\n",
        "sigma = 2\n",
        "epochs = 5\n",
        "\n",
        "train_accs = []\n",
        "test_accs = []\n",
        "\n",
        "for i, C in enumerate(Cs):\n",
        "    print('-'*30)\n",
        "    print(f'C = {C}')\n",
        "    model = CIFAR_Net().to(DEVICE)\n",
        "    train_acc, test_acc = train(model, cifar_trainloader, cifar_testloader, epochs, C, sigma)\n",
        "    train_accs.append(train_acc)\n",
        "    test_accs.append(test_acc)"
      ],
      "metadata": {
        "id": "5jNqnR15wmy-"
      },
      "execution_count": null,
      "outputs": []
    },
    {
      "cell_type": "code",
      "source": [
        "BEST_ACCS_TRAIN = []\n",
        "BEST_ACCS_TEST = []\n",
        "for i in range(10):\n",
        "    BEST_ACCS_TRAIN.append(max(train_accs[i]))\n",
        "    BEST_ACCS_TEST.append(max(test_accs[i]))\n",
        "\n",
        "plt.subplot(1, 2, 1)\n",
        "plt.plot(list(Cs), BEST_ACCS_TRAIN)\n",
        "plt.title('MNIST Train Accs')\n",
        "plt.xlabel('C')\n",
        "plt.ylabel('Top Accuracy')\n",
        "plt.grid(True)\n",
        "\n",
        "plt.subplot(1, 2, 2)\n",
        "plt.plot(list(Cs), BEST_ACCS_TEST)\n",
        "plt.title('MNIST Test Accs')\n",
        "plt.xlabel('C')\n",
        "plt.ylabel('Top Accuracy')\n",
        "plt.grid(True)\n"
      ],
      "metadata": {
        "id": "d32yaH59wntV"
      },
      "execution_count": null,
      "outputs": []
    }
  ],
  "metadata": {
    "colab": {
      "provenance": [],
      "toc_visible": true,
      "gpuType": "T4",
      "include_colab_link": true
    },
    "kernelspec": {
      "display_name": "Python 3",
      "name": "python3"
    },
    "language_info": {
      "codemirror_mode": {
        "name": "ipython",
        "version": 3
      },
      "file_extension": ".py",
      "mimetype": "text/x-python",
      "name": "python",
      "nbconvert_exporter": "python",
      "pygments_lexer": "ipython3",
      "version": "3.8.5"
    },
    "accelerator": "GPU"
  },
  "nbformat": 4,
  "nbformat_minor": 0
}